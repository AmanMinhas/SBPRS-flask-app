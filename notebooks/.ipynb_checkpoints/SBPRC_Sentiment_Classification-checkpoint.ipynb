{
 "cells": [
  {
   "cell_type": "code",
   "execution_count": null,
   "metadata": {
    "id": "yh90ijCd6wWQ"
   },
   "outputs": [],
   "source": []
  },
  {
   "cell_type": "code",
   "execution_count": 10,
   "metadata": {
    "colab": {
     "base_uri": "https://localhost:8080/"
    },
    "id": "cebORWMBmvWW",
    "outputId": "85ad74a9-56fd-426d-d104-a81229f530f3"
   },
   "outputs": [],
   "source": [
    "# ##Ref:https://towardsdatascience.com/downloading-datasets-into-google-drive-via-google-colab-bcb1b30b0166\n",
    "# ## If you are using the data by mounting the google drive, use the following :\n",
    "# from google.colab import drive\n",
    "# import sys\n",
    "\n",
    "# drive.mount('/content/gdrive')\n",
    "# base_dir_path = \"gdrive/My Drive/UpGrad/Capstone\"\n",
    "# sys.path.insert(0, base_dir_path)\n",
    "\n",
    "base_dir_path = \".\""
   ]
  },
  {
   "cell_type": "code",
   "execution_count": null,
   "metadata": {},
   "outputs": [],
   "source": []
  },
  {
   "cell_type": "code",
   "execution_count": 11,
   "metadata": {
    "id": "OemoTeCK6xVB"
   },
   "outputs": [],
   "source": [
    "# ! pip install gensim"
   ]
  },
  {
   "cell_type": "code",
   "execution_count": 12,
   "metadata": {
    "colab": {
     "base_uri": "https://localhost:8080/"
    },
    "id": "qy6ZX2uWoMIp",
    "outputId": "22865cbf-aa9e-4042-94e0-b44faa752c86"
   },
   "outputs": [
    {
     "name": "stderr",
     "output_type": "stream",
     "text": [
      "/Users/aman/opt/anaconda3/lib/python3.7/site-packages/ipykernel_launcher.py:4: FutureWarning: Passing a negative integer is deprecated in version 1.0 and will not be supported in future version. Instead, use None to not limit the column width.\n",
      "  after removing the cwd from sys.path.\n"
     ]
    }
   ],
   "source": [
    "# Import packages\n",
    "import numpy as np\n",
    "import pandas as pd\n",
    "pd.set_option('display.max_colwidth', -1)\n",
    "\n",
    "import matplotlib.pyplot as plt\n",
    "import seaborn as sns\n",
    "from sklearn.model_selection import train_test_split\n",
    "\n",
    "from sklearn import metrics\n",
    "from sklearn.metrics import confusion_matrix\n",
    "\n",
    "import pickle\n",
    "from sklearn.model_selection import RandomizedSearchCV"
   ]
  },
  {
   "cell_type": "code",
   "execution_count": 13,
   "metadata": {
    "colab": {
     "base_uri": "https://localhost:8080/",
     "height": 1000
    },
    "id": "nS70-ZLroh9n",
    "outputId": "e7a83ac7-787a-4177-8fb3-d1c01aeb2194"
   },
   "outputs": [
    {
     "data": {
      "text/html": [
       "<div>\n",
       "<style scoped>\n",
       "    .dataframe tbody tr th:only-of-type {\n",
       "        vertical-align: middle;\n",
       "    }\n",
       "\n",
       "    .dataframe tbody tr th {\n",
       "        vertical-align: top;\n",
       "    }\n",
       "\n",
       "    .dataframe thead th {\n",
       "        text-align: right;\n",
       "    }\n",
       "</style>\n",
       "<table border=\"1\" class=\"dataframe\">\n",
       "  <thead>\n",
       "    <tr style=\"text-align: right;\">\n",
       "      <th></th>\n",
       "      <th>id</th>\n",
       "      <th>brand</th>\n",
       "      <th>categories</th>\n",
       "      <th>manufacturer</th>\n",
       "      <th>name</th>\n",
       "      <th>reviews_date</th>\n",
       "      <th>reviews_didPurchase</th>\n",
       "      <th>reviews_doRecommend</th>\n",
       "      <th>reviews_rating</th>\n",
       "      <th>reviews_text</th>\n",
       "      <th>reviews_title</th>\n",
       "      <th>reviews_userCity</th>\n",
       "      <th>reviews_userProvince</th>\n",
       "      <th>reviews_username</th>\n",
       "      <th>user_sentiment</th>\n",
       "    </tr>\n",
       "  </thead>\n",
       "  <tbody>\n",
       "    <tr>\n",
       "      <th>0</th>\n",
       "      <td>AV13O1A8GV-KLJ3akUyj</td>\n",
       "      <td>Universal Music</td>\n",
       "      <td>Movies, Music &amp; Books,Music,R&amp;b,Movies &amp; TV,Movie Bundles &amp; Collections,CDs &amp; Vinyl,Rap &amp; Hip-Hop,Bass,Music on CD or Vinyl,Rap,Hip-Hop,Mainstream Rap,Pop Rap</td>\n",
       "      <td>Universal Music Group / Cash Money</td>\n",
       "      <td>Pink Friday: Roman Reloaded Re-Up (w/dvd)</td>\n",
       "      <td>2012-11-30T06:21:45.000Z</td>\n",
       "      <td>NaN</td>\n",
       "      <td>NaN</td>\n",
       "      <td>5</td>\n",
       "      <td>i love this album. it's very good. more to the hip hop side than her current pop sound.. SO HYPE! i listen to this everyday at the gym! i give it 5star rating all the way. her metaphors are just crazy.</td>\n",
       "      <td>Just Awesome</td>\n",
       "      <td>Los Angeles</td>\n",
       "      <td>NaN</td>\n",
       "      <td>joshua</td>\n",
       "      <td>Positive</td>\n",
       "    </tr>\n",
       "    <tr>\n",
       "      <th>1</th>\n",
       "      <td>AV14LG0R-jtxr-f38QfS</td>\n",
       "      <td>Lundberg</td>\n",
       "      <td>Food,Packaged Foods,Snacks,Crackers,Snacks, Cookies &amp; Chips,Rice Cakes,Cakes</td>\n",
       "      <td>Lundberg</td>\n",
       "      <td>Lundberg Organic Cinnamon Toast Rice Cakes</td>\n",
       "      <td>2017-07-09T00:00:00.000Z</td>\n",
       "      <td>True</td>\n",
       "      <td>NaN</td>\n",
       "      <td>5</td>\n",
       "      <td>Good flavor. This review was collected as part of a promotion.</td>\n",
       "      <td>Good</td>\n",
       "      <td>NaN</td>\n",
       "      <td>NaN</td>\n",
       "      <td>dorothy w</td>\n",
       "      <td>Positive</td>\n",
       "    </tr>\n",
       "    <tr>\n",
       "      <th>2</th>\n",
       "      <td>AV14LG0R-jtxr-f38QfS</td>\n",
       "      <td>Lundberg</td>\n",
       "      <td>Food,Packaged Foods,Snacks,Crackers,Snacks, Cookies &amp; Chips,Rice Cakes,Cakes</td>\n",
       "      <td>Lundberg</td>\n",
       "      <td>Lundberg Organic Cinnamon Toast Rice Cakes</td>\n",
       "      <td>2017-07-09T00:00:00.000Z</td>\n",
       "      <td>True</td>\n",
       "      <td>NaN</td>\n",
       "      <td>5</td>\n",
       "      <td>Good flavor.</td>\n",
       "      <td>Good</td>\n",
       "      <td>NaN</td>\n",
       "      <td>NaN</td>\n",
       "      <td>dorothy w</td>\n",
       "      <td>Positive</td>\n",
       "    </tr>\n",
       "    <tr>\n",
       "      <th>3</th>\n",
       "      <td>AV16khLE-jtxr-f38VFn</td>\n",
       "      <td>K-Y</td>\n",
       "      <td>Personal Care,Medicine Cabinet,Lubricant/Spermicide,Health,Sexual Wellness,Lubricants</td>\n",
       "      <td>K-Y</td>\n",
       "      <td>K-Y Love Sensuality Pleasure Gel</td>\n",
       "      <td>2016-01-06T00:00:00.000Z</td>\n",
       "      <td>False</td>\n",
       "      <td>False</td>\n",
       "      <td>1</td>\n",
       "      <td>I read through the reviews on here before looking in to buying one of the couples lubricants, and was ultimately disappointed that it didn't even live up to the reviews I had read. For starters, neither my boyfriend nor I could notice any sort of enhanced or 'captivating' sensation. What we did notice, however, was the messy consistency that was reminiscent of a more liquid-y vaseline. It was difficult to clean up, and was not a pleasant, especially since it lacked the 'captivating' sensation we had both been expecting. I'm disappointed that I paid as much as I did for a lube that I won't use again, when I could just use their normal personal lubricant for 1) less money and 2) less mess.</td>\n",
       "      <td>Disappointed</td>\n",
       "      <td>NaN</td>\n",
       "      <td>NaN</td>\n",
       "      <td>rebecca</td>\n",
       "      <td>Negative</td>\n",
       "    </tr>\n",
       "    <tr>\n",
       "      <th>4</th>\n",
       "      <td>AV16khLE-jtxr-f38VFn</td>\n",
       "      <td>K-Y</td>\n",
       "      <td>Personal Care,Medicine Cabinet,Lubricant/Spermicide,Health,Sexual Wellness,Lubricants</td>\n",
       "      <td>K-Y</td>\n",
       "      <td>K-Y Love Sensuality Pleasure Gel</td>\n",
       "      <td>2016-12-21T00:00:00.000Z</td>\n",
       "      <td>False</td>\n",
       "      <td>False</td>\n",
       "      <td>1</td>\n",
       "      <td>My husband bought this gel for us. The gel caused irritation and it felt like it was burning my skin. I wouldn't recommend this gel.</td>\n",
       "      <td>Irritation</td>\n",
       "      <td>NaN</td>\n",
       "      <td>NaN</td>\n",
       "      <td>walker557</td>\n",
       "      <td>Negative</td>\n",
       "    </tr>\n",
       "  </tbody>\n",
       "</table>\n",
       "</div>"
      ],
      "text/plain": [
       "                     id            brand  \\\n",
       "0  AV13O1A8GV-KLJ3akUyj  Universal Music   \n",
       "1  AV14LG0R-jtxr-f38QfS  Lundberg          \n",
       "2  AV14LG0R-jtxr-f38QfS  Lundberg          \n",
       "3  AV16khLE-jtxr-f38VFn  K-Y               \n",
       "4  AV16khLE-jtxr-f38VFn  K-Y               \n",
       "\n",
       "                                                                                                                                                       categories  \\\n",
       "0  Movies, Music & Books,Music,R&b,Movies & TV,Movie Bundles & Collections,CDs & Vinyl,Rap & Hip-Hop,Bass,Music on CD or Vinyl,Rap,Hip-Hop,Mainstream Rap,Pop Rap   \n",
       "1  Food,Packaged Foods,Snacks,Crackers,Snacks, Cookies & Chips,Rice Cakes,Cakes                                                                                     \n",
       "2  Food,Packaged Foods,Snacks,Crackers,Snacks, Cookies & Chips,Rice Cakes,Cakes                                                                                     \n",
       "3  Personal Care,Medicine Cabinet,Lubricant/Spermicide,Health,Sexual Wellness,Lubricants                                                                            \n",
       "4  Personal Care,Medicine Cabinet,Lubricant/Spermicide,Health,Sexual Wellness,Lubricants                                                                            \n",
       "\n",
       "                         manufacturer  \\\n",
       "0  Universal Music Group / Cash Money   \n",
       "1  Lundberg                             \n",
       "2  Lundberg                             \n",
       "3  K-Y                                  \n",
       "4  K-Y                                  \n",
       "\n",
       "                                         name              reviews_date  \\\n",
       "0  Pink Friday: Roman Reloaded Re-Up (w/dvd)   2012-11-30T06:21:45.000Z   \n",
       "1  Lundberg Organic Cinnamon Toast Rice Cakes  2017-07-09T00:00:00.000Z   \n",
       "2  Lundberg Organic Cinnamon Toast Rice Cakes  2017-07-09T00:00:00.000Z   \n",
       "3  K-Y Love Sensuality Pleasure Gel            2016-01-06T00:00:00.000Z   \n",
       "4  K-Y Love Sensuality Pleasure Gel            2016-12-21T00:00:00.000Z   \n",
       "\n",
       "  reviews_didPurchase reviews_doRecommend  reviews_rating  \\\n",
       "0  NaN                 NaN                 5                \n",
       "1  True                NaN                 5                \n",
       "2  True                NaN                 5                \n",
       "3  False               False               1                \n",
       "4  False               False               1                \n",
       "\n",
       "                                                                                                                                                                                                                                                                                                                                                                                                                                                                                                                                                                                                                                                                                                               reviews_text  \\\n",
       "0  i love this album. it's very good. more to the hip hop side than her current pop sound.. SO HYPE! i listen to this everyday at the gym! i give it 5star rating all the way. her metaphors are just crazy.                                                                                                                                                                                                                                                                                                                                                                                                                                                                                                                  \n",
       "1  Good flavor. This review was collected as part of a promotion.                                                                                                                                                                                                                                                                                                                                                                                                                                                                                                                                                                                                                                                             \n",
       "2  Good flavor.                                                                                                                                                                                                                                                                                                                                                                                                                                                                                                                                                                                                                                                                                                               \n",
       "3  I read through the reviews on here before looking in to buying one of the couples lubricants, and was ultimately disappointed that it didn't even live up to the reviews I had read. For starters, neither my boyfriend nor I could notice any sort of enhanced or 'captivating' sensation. What we did notice, however, was the messy consistency that was reminiscent of a more liquid-y vaseline. It was difficult to clean up, and was not a pleasant, especially since it lacked the 'captivating' sensation we had both been expecting. I'm disappointed that I paid as much as I did for a lube that I won't use again, when I could just use their normal personal lubricant for 1) less money and 2) less mess.   \n",
       "4  My husband bought this gel for us. The gel caused irritation and it felt like it was burning my skin. I wouldn't recommend this gel.                                                                                                                                                                                                                                                                                                                                                                                                                                                                                                                                                                                       \n",
       "\n",
       "  reviews_title reviews_userCity reviews_userProvince reviews_username  \\\n",
       "0  Just Awesome  Los Angeles      NaN                  joshua            \n",
       "1  Good          NaN              NaN                  dorothy w         \n",
       "2  Good          NaN              NaN                  dorothy w         \n",
       "3  Disappointed  NaN              NaN                  rebecca           \n",
       "4  Irritation    NaN              NaN                  walker557         \n",
       "\n",
       "  user_sentiment  \n",
       "0  Positive       \n",
       "1  Positive       \n",
       "2  Positive       \n",
       "3  Negative       \n",
       "4  Negative       "
      ]
     },
     "execution_count": 13,
     "metadata": {},
     "output_type": "execute_result"
    }
   ],
   "source": [
    "# Create ratings dataframe from csv\n",
    "ratings_df = pd.read_csv(f\"{base_dir_path}/sample30.csv\")\n",
    "ratings_df.head()"
   ]
  },
  {
   "cell_type": "code",
   "execution_count": 14,
   "metadata": {
    "id": "gA9CXjICQtJj"
   },
   "outputs": [],
   "source": [
    "# # TODO - REMOVE \n",
    "# # Use Minified dataframe\n",
    "# minified_ratings_df = ratings_df.copy()\n",
    "# minified_ratings_100_df = minified_ratings_df.head(100)\n",
    "# print(minified_ratings_100_df.shape)\n",
    "# print(minified_ratings_100_df.user_sentiment.value_counts())\n",
    "# ratings_df = minified_ratings_100_df.copy()"
   ]
  },
  {
   "cell_type": "code",
   "execution_count": 15,
   "metadata": {
    "colab": {
     "base_uri": "https://localhost:8080/"
    },
    "id": "bH2WZ633hlU2",
    "outputId": "2bfc3305-7cb1-4f32-f8ac-0ce0cb059a89"
   },
   "outputs": [
    {
     "data": {
      "text/plain": [
       "(30000, 15)"
      ]
     },
     "execution_count": 15,
     "metadata": {},
     "output_type": "execute_result"
    }
   ],
   "source": [
    "# Check the rows x cols of the dataframe\n",
    "ratings_df.shape"
   ]
  },
  {
   "cell_type": "code",
   "execution_count": 16,
   "metadata": {
    "colab": {
     "base_uri": "https://localhost:8080/"
    },
    "id": "WqS5yEBEec9H",
    "outputId": "d5074399-648b-456e-ee8d-9fc3399bba73"
   },
   "outputs": [
    {
     "data": {
      "text/plain": [
       "Index(['id', 'brand', 'categories', 'manufacturer', 'name', 'reviews_date',\n",
       "       'reviews_didPurchase', 'reviews_doRecommend', 'reviews_rating',\n",
       "       'reviews_text', 'reviews_title', 'reviews_userCity',\n",
       "       'reviews_userProvince', 'reviews_username', 'user_sentiment'],\n",
       "      dtype='object')"
      ]
     },
     "execution_count": 16,
     "metadata": {},
     "output_type": "execute_result"
    }
   ],
   "source": [
    "# Check all the columns in the dataframe\n",
    "ratings_df.columns"
   ]
  },
  {
   "cell_type": "code",
   "execution_count": 17,
   "metadata": {
    "colab": {
     "base_uri": "https://localhost:8080/",
     "height": 997
    },
    "id": "JMauoHmIpFvN",
    "outputId": "8a4a1f34-9efa-4fe5-c98e-0f4d70c2cf4e"
   },
   "outputs": [
    {
     "data": {
      "text/html": [
       "<div>\n",
       "<style scoped>\n",
       "    .dataframe tbody tr th:only-of-type {\n",
       "        vertical-align: middle;\n",
       "    }\n",
       "\n",
       "    .dataframe tbody tr th {\n",
       "        vertical-align: top;\n",
       "    }\n",
       "\n",
       "    .dataframe thead th {\n",
       "        text-align: right;\n",
       "    }\n",
       "</style>\n",
       "<table border=\"1\" class=\"dataframe\">\n",
       "  <thead>\n",
       "    <tr style=\"text-align: right;\">\n",
       "      <th></th>\n",
       "      <th>reviews_username</th>\n",
       "      <th>name</th>\n",
       "      <th>reviews_rating</th>\n",
       "      <th>reviews_text</th>\n",
       "      <th>reviews_title</th>\n",
       "    </tr>\n",
       "  </thead>\n",
       "  <tbody>\n",
       "    <tr>\n",
       "      <th>0</th>\n",
       "      <td>joshua</td>\n",
       "      <td>Pink Friday: Roman Reloaded Re-Up (w/dvd)</td>\n",
       "      <td>5</td>\n",
       "      <td>i love this album. it's very good. more to the hip hop side than her current pop sound.. SO HYPE! i listen to this everyday at the gym! i give it 5star rating all the way. her metaphors are just crazy.</td>\n",
       "      <td>Just Awesome</td>\n",
       "    </tr>\n",
       "    <tr>\n",
       "      <th>1</th>\n",
       "      <td>dorothy w</td>\n",
       "      <td>Lundberg Organic Cinnamon Toast Rice Cakes</td>\n",
       "      <td>5</td>\n",
       "      <td>Good flavor. This review was collected as part of a promotion.</td>\n",
       "      <td>Good</td>\n",
       "    </tr>\n",
       "    <tr>\n",
       "      <th>2</th>\n",
       "      <td>dorothy w</td>\n",
       "      <td>Lundberg Organic Cinnamon Toast Rice Cakes</td>\n",
       "      <td>5</td>\n",
       "      <td>Good flavor.</td>\n",
       "      <td>Good</td>\n",
       "    </tr>\n",
       "    <tr>\n",
       "      <th>3</th>\n",
       "      <td>rebecca</td>\n",
       "      <td>K-Y Love Sensuality Pleasure Gel</td>\n",
       "      <td>1</td>\n",
       "      <td>I read through the reviews on here before looking in to buying one of the couples lubricants, and was ultimately disappointed that it didn't even live up to the reviews I had read. For starters, neither my boyfriend nor I could notice any sort of enhanced or 'captivating' sensation. What we did notice, however, was the messy consistency that was reminiscent of a more liquid-y vaseline. It was difficult to clean up, and was not a pleasant, especially since it lacked the 'captivating' sensation we had both been expecting. I'm disappointed that I paid as much as I did for a lube that I won't use again, when I could just use their normal personal lubricant for 1) less money and 2) less mess.</td>\n",
       "      <td>Disappointed</td>\n",
       "    </tr>\n",
       "    <tr>\n",
       "      <th>4</th>\n",
       "      <td>walker557</td>\n",
       "      <td>K-Y Love Sensuality Pleasure Gel</td>\n",
       "      <td>1</td>\n",
       "      <td>My husband bought this gel for us. The gel caused irritation and it felt like it was burning my skin. I wouldn't recommend this gel.</td>\n",
       "      <td>Irritation</td>\n",
       "    </tr>\n",
       "    <tr>\n",
       "      <th>...</th>\n",
       "      <td>...</td>\n",
       "      <td>...</td>\n",
       "      <td>...</td>\n",
       "      <td>...</td>\n",
       "      <td>...</td>\n",
       "    </tr>\n",
       "    <tr>\n",
       "      <th>29995</th>\n",
       "      <td>laurasnchz</td>\n",
       "      <td>L'or233al Paris Elvive Extraordinary Clay Rebalancing Conditioner - 12.6 Fl Oz</td>\n",
       "      <td>5</td>\n",
       "      <td>I got this conditioner with Influenster to try it and im loving it so far, i have oily hair so i use it only in the ends of my hair and feels amazing, so soft and no mess!! This review was collected as part of a promotion.</td>\n",
       "      <td>Softness!!</td>\n",
       "    </tr>\n",
       "    <tr>\n",
       "      <th>29996</th>\n",
       "      <td>scarlepadilla</td>\n",
       "      <td>L'or233al Paris Elvive Extraordinary Clay Rebalancing Conditioner - 12.6 Fl Oz</td>\n",
       "      <td>5</td>\n",
       "      <td>I love it , I received this for review purposes from influenster and it leaves my hair feeling fresh and smelling great</td>\n",
       "      <td>I love it</td>\n",
       "    </tr>\n",
       "    <tr>\n",
       "      <th>29997</th>\n",
       "      <td>liviasuexo</td>\n",
       "      <td>L'or233al Paris Elvive Extraordinary Clay Rebalancing Conditioner - 12.6 Fl Oz</td>\n",
       "      <td>5</td>\n",
       "      <td>First of all I love the smell of this product. After you wash your hair it is so smooth and easy to brush! I did receive this product from influenster for testing purposes but all opinions ARE my own! This review was collected as part of a promotion.</td>\n",
       "      <td>Hair is so smooth after use</td>\n",
       "    </tr>\n",
       "    <tr>\n",
       "      <th>29998</th>\n",
       "      <td>ktreed95</td>\n",
       "      <td>L'or233al Paris Elvive Extraordinary Clay Rebalancing Conditioner - 12.6 Fl Oz</td>\n",
       "      <td>5</td>\n",
       "      <td>I received this through Influenster and will never go back to anything else! I normally don't use conditioner because my hair is so oily and fine. This does not make my hair feel heavy, and it doesn't get oily during the day! It really is fantastic and plan on buying it in the future! This review was collected as part of a promotion.</td>\n",
       "      <td>Perfect for my oily hair!</td>\n",
       "    </tr>\n",
       "    <tr>\n",
       "      <th>29999</th>\n",
       "      <td>kcoopxoxo</td>\n",
       "      <td>L'or233al Paris Elvive Extraordinary Clay Rebalancing Conditioner - 12.6 Fl Oz</td>\n",
       "      <td>5</td>\n",
       "      <td>I received this product complimentary from influenster and it has really saved my hair. This product really gives the extra boost of health and strength to bring hair back to life. It hasn't helped my hair in so many ways. This review was collected as part of a promotion.</td>\n",
       "      <td>Conditioned into healthy</td>\n",
       "    </tr>\n",
       "  </tbody>\n",
       "</table>\n",
       "<p>30000 rows × 5 columns</p>\n",
       "</div>"
      ],
      "text/plain": [
       "      reviews_username  \\\n",
       "0      joshua            \n",
       "1      dorothy w         \n",
       "2      dorothy w         \n",
       "3      rebecca           \n",
       "4      walker557         \n",
       "...          ...         \n",
       "29995  laurasnchz        \n",
       "29996  scarlepadilla     \n",
       "29997  liviasuexo        \n",
       "29998  ktreed95          \n",
       "29999  kcoopxoxo         \n",
       "\n",
       "                                                                                 name  \\\n",
       "0      Pink Friday: Roman Reloaded Re-Up (w/dvd)                                        \n",
       "1      Lundberg Organic Cinnamon Toast Rice Cakes                                       \n",
       "2      Lundberg Organic Cinnamon Toast Rice Cakes                                       \n",
       "3      K-Y Love Sensuality Pleasure Gel                                                 \n",
       "4      K-Y Love Sensuality Pleasure Gel                                                 \n",
       "...                                 ...                                                 \n",
       "29995  L'or233al Paris Elvive Extraordinary Clay Rebalancing Conditioner - 12.6 Fl Oz   \n",
       "29996  L'or233al Paris Elvive Extraordinary Clay Rebalancing Conditioner - 12.6 Fl Oz   \n",
       "29997  L'or233al Paris Elvive Extraordinary Clay Rebalancing Conditioner - 12.6 Fl Oz   \n",
       "29998  L'or233al Paris Elvive Extraordinary Clay Rebalancing Conditioner - 12.6 Fl Oz   \n",
       "29999  L'or233al Paris Elvive Extraordinary Clay Rebalancing Conditioner - 12.6 Fl Oz   \n",
       "\n",
       "       reviews_rating  \\\n",
       "0      5                \n",
       "1      5                \n",
       "2      5                \n",
       "3      1                \n",
       "4      1                \n",
       "...   ..                \n",
       "29995  5                \n",
       "29996  5                \n",
       "29997  5                \n",
       "29998  5                \n",
       "29999  5                \n",
       "\n",
       "                                                                                                                                                                                                                                                                                                                                                                                                                                                                                                                                                                                                                                                                                                                   reviews_text  \\\n",
       "0      i love this album. it's very good. more to the hip hop side than her current pop sound.. SO HYPE! i listen to this everyday at the gym! i give it 5star rating all the way. her metaphors are just crazy.                                                                                                                                                                                                                                                                                                                                                                                                                                                                                                                  \n",
       "1      Good flavor. This review was collected as part of a promotion.                                                                                                                                                                                                                                                                                                                                                                                                                                                                                                                                                                                                                                                             \n",
       "2      Good flavor.                                                                                                                                                                                                                                                                                                                                                                                                                                                                                                                                                                                                                                                                                                               \n",
       "3      I read through the reviews on here before looking in to buying one of the couples lubricants, and was ultimately disappointed that it didn't even live up to the reviews I had read. For starters, neither my boyfriend nor I could notice any sort of enhanced or 'captivating' sensation. What we did notice, however, was the messy consistency that was reminiscent of a more liquid-y vaseline. It was difficult to clean up, and was not a pleasant, especially since it lacked the 'captivating' sensation we had both been expecting. I'm disappointed that I paid as much as I did for a lube that I won't use again, when I could just use their normal personal lubricant for 1) less money and 2) less mess.   \n",
       "4      My husband bought this gel for us. The gel caused irritation and it felt like it was burning my skin. I wouldn't recommend this gel.                                                                                                                                                                                                                                                                                                                                                                                                                                                                                                                                                                                       \n",
       "...                                                                                                                                     ...                                                                                                                                                                                                                                                                                                                                                                                                                                                                                                                                                                                       \n",
       "29995  I got this conditioner with Influenster to try it and im loving it so far, i have oily hair so i use it only in the ends of my hair and feels amazing, so soft and no mess!! This review was collected as part of a promotion.                                                                                                                                                                                                                                                                                                                                                                                                                                                                                             \n",
       "29996  I love it , I received this for review purposes from influenster and it leaves my hair feeling fresh and smelling great                                                                                                                                                                                                                                                                                                                                                                                                                                                                                                                                                                                                    \n",
       "29997  First of all I love the smell of this product. After you wash your hair it is so smooth and easy to brush! I did receive this product from influenster for testing purposes but all opinions ARE my own! This review was collected as part of a promotion.                                                                                                                                                                                                                                                                                                                                                                                                                                                                 \n",
       "29998  I received this through Influenster and will never go back to anything else! I normally don't use conditioner because my hair is so oily and fine. This does not make my hair feel heavy, and it doesn't get oily during the day! It really is fantastic and plan on buying it in the future! This review was collected as part of a promotion.                                                                                                                                                                                                                                                                                                                                                                            \n",
       "29999  I received this product complimentary from influenster and it has really saved my hair. This product really gives the extra boost of health and strength to bring hair back to life. It hasn't helped my hair in so many ways. This review was collected as part of a promotion.                                                                                                                                                                                                                                                                                                                                                                                                                                           \n",
       "\n",
       "                     reviews_title  \n",
       "0      Just Awesome                 \n",
       "1      Good                         \n",
       "2      Good                         \n",
       "3      Disappointed                 \n",
       "4      Irritation                   \n",
       "...           ...                   \n",
       "29995  Softness!!                   \n",
       "29996  I love it                    \n",
       "29997  Hair is so smooth after use  \n",
       "29998  Perfect for my oily hair!    \n",
       "29999  Conditioned into healthy     \n",
       "\n",
       "[30000 rows x 5 columns]"
      ]
     },
     "execution_count": 17,
     "metadata": {},
     "output_type": "execute_result"
    }
   ],
   "source": [
    "# Check relevant fields\n",
    "ratings_df[['reviews_username', 'name', 'reviews_rating', 'reviews_text', 'reviews_title']]"
   ]
  },
  {
   "cell_type": "code",
   "execution_count": 18,
   "metadata": {
    "colab": {
     "base_uri": "https://localhost:8080/"
    },
    "id": "KqngVeLJffAH",
    "outputId": "a6867edb-c70f-4eaf-c60b-0fe2318eb90d"
   },
   "outputs": [
    {
     "name": "stderr",
     "output_type": "stream",
     "text": [
      "/Users/aman/opt/anaconda3/lib/python3.7/site-packages/seaborn/distributions.py:2557: FutureWarning: `distplot` is a deprecated function and will be removed in a future version. Please adapt your code to use either `displot` (a figure-level function with similar flexibility) or `histplot` (an axes-level function for histograms).\n",
      "  warnings.warn(msg, FutureWarning)\n"
     ]
    },
    {
     "data": {
      "text/plain": [
       "<AxesSubplot:xlabel='reviews_rating', ylabel='Density'>"
      ]
     },
     "execution_count": 18,
     "metadata": {},
     "output_type": "execute_result"
    },
    {
     "data": {
      "image/png": "[encoded data removed]",
      "text/plain": [
       "<Figure size 432x288 with 1 Axes>"
      ]
     },
     "metadata": {
      "needs_background": "light"
     },
     "output_type": "display_data"
    }
   ],
   "source": [
    "# Check how the ratings are distributed.\n",
    "sns.distplot(ratings_df.reviews_rating)"
   ]
  },
  {
   "cell_type": "markdown",
   "metadata": {
    "id": "U1VJ9Vpbf0kZ"
   },
   "source": [
    "### **Observation**\n",
    "\n",
    "We can see above that most of the ratings given are given for 5. Very few ratings of less than 4."
   ]
  },
  {
   "cell_type": "code",
   "execution_count": 19,
   "metadata": {
    "colab": {
     "base_uri": "https://localhost:8080/"
    },
    "id": "l0PF8iDffxy4",
    "outputId": "467dfec4-35c6-4e4b-e5a6-c9a9b907cf9d"
   },
   "outputs": [
    {
     "data": {
      "text/plain": [
       "5    20831\n",
       "4    6020 \n",
       "1    1384 \n",
       "3    1345 \n",
       "2    420  \n",
       "Name: reviews_rating, dtype: int64"
      ]
     },
     "execution_count": 19,
     "metadata": {},
     "output_type": "execute_result"
    }
   ],
   "source": [
    "ratings_df.reviews_rating.value_counts()"
   ]
  },
  {
   "cell_type": "code",
   "execution_count": 20,
   "metadata": {
    "colab": {
     "base_uri": "https://localhost:8080/"
    },
    "id": "ld9JIPsnfpxc",
    "outputId": "05884041-e232-42e2-83a7-c3ce3690956d"
   },
   "outputs": [
    {
     "data": {
      "text/plain": [
       "id                      271  \n",
       "brand                   214  \n",
       "categories              270  \n",
       "manufacturer            227  \n",
       "name                    271  \n",
       "reviews_date            6857 \n",
       "reviews_didPurchase     2    \n",
       "reviews_doRecommend     2    \n",
       "reviews_rating          5    \n",
       "reviews_text            27282\n",
       "reviews_title           18535\n",
       "reviews_userCity        977  \n",
       "reviews_userProvince    42   \n",
       "reviews_username        24914\n",
       "user_sentiment          2    \n",
       "dtype: int64"
      ]
     },
     "execution_count": 20,
     "metadata": {},
     "output_type": "execute_result"
    }
   ],
   "source": [
    "# Let's check the unique number of values in each column. Mostly checking for unique products\n",
    "ratings_df.nunique()"
   ]
  },
  {
   "cell_type": "markdown",
   "metadata": {
    "id": "pikQdIRdib1Z"
   },
   "source": [
    "### **Observation**\n",
    "\n",
    "- There are 271 unique products reviewed in the dataset\n",
    "- There are 24,914 unique users"
   ]
  },
  {
   "cell_type": "code",
   "execution_count": 21,
   "metadata": {
    "id": "GFib40jCxhcP"
   },
   "outputs": [],
   "source": [
    "# Let's check duplicates\n",
    "# ratings_df[ratings_df[['name', 'reviews_username',]].duplicated() == True]"
   ]
  },
  {
   "cell_type": "markdown",
   "metadata": {
    "id": "O_sRSs51xk4Q"
   },
   "source": [
    "## **Data Cleaning**"
   ]
  },
  {
   "cell_type": "markdown",
   "metadata": {
    "id": "BCsjoINz8BXO"
   },
   "source": [
    "### **Handle Null Values**"
   ]
  },
  {
   "cell_type": "code",
   "execution_count": 22,
   "metadata": {
    "colab": {
     "base_uri": "https://localhost:8080/"
    },
    "id": "sQICYCW36ywG",
    "outputId": "12169792-a8be-4bad-bd8a-843311c306e4"
   },
   "outputs": [
    {
     "data": {
      "text/plain": [
       "id                      0    \n",
       "brand                   0    \n",
       "categories              0    \n",
       "manufacturer            141  \n",
       "name                    0    \n",
       "reviews_date            46   \n",
       "reviews_didPurchase     14068\n",
       "reviews_doRecommend     2570 \n",
       "reviews_rating          0    \n",
       "reviews_text            0    \n",
       "reviews_title           190  \n",
       "reviews_userCity        28071\n",
       "reviews_userProvince    29830\n",
       "reviews_username        63   \n",
       "user_sentiment          1    \n",
       "dtype: int64"
      ]
     },
     "execution_count": 22,
     "metadata": {},
     "output_type": "execute_result"
    }
   ],
   "source": [
    "ratings_df.isnull().sum()"
   ]
  },
  {
   "cell_type": "markdown",
   "metadata": {
    "id": "eFagImO68kCY"
   },
   "source": [
    "**Observation**\n",
    "- 190 ratings do not have a title.\n",
    "- 63 ratings do not have a username.\n",
    "- 1 rating does not have a sentiment assigned.\n"
   ]
  },
  {
   "cell_type": "code",
   "execution_count": 23,
   "metadata": {
    "colab": {
     "base_uri": "https://localhost:8080/"
    },
    "id": "5Hpt83QV8HXx",
    "outputId": "4f1c8ca9-facf-486b-cdbf-ccdacb028d69"
   },
   "outputs": [
    {
     "data": {
      "text/html": [
       "<div>\n",
       "<style scoped>\n",
       "    .dataframe tbody tr th:only-of-type {\n",
       "        vertical-align: middle;\n",
       "    }\n",
       "\n",
       "    .dataframe tbody tr th {\n",
       "        vertical-align: top;\n",
       "    }\n",
       "\n",
       "    .dataframe thead th {\n",
       "        text-align: right;\n",
       "    }\n",
       "</style>\n",
       "<table border=\"1\" class=\"dataframe\">\n",
       "  <thead>\n",
       "    <tr style=\"text-align: right;\">\n",
       "      <th></th>\n",
       "      <th>id</th>\n",
       "      <th>brand</th>\n",
       "      <th>categories</th>\n",
       "      <th>manufacturer</th>\n",
       "      <th>name</th>\n",
       "      <th>reviews_date</th>\n",
       "      <th>reviews_didPurchase</th>\n",
       "      <th>reviews_doRecommend</th>\n",
       "      <th>reviews_rating</th>\n",
       "      <th>reviews_text</th>\n",
       "      <th>reviews_title</th>\n",
       "      <th>reviews_userCity</th>\n",
       "      <th>reviews_userProvince</th>\n",
       "      <th>reviews_username</th>\n",
       "      <th>user_sentiment</th>\n",
       "    </tr>\n",
       "  </thead>\n",
       "  <tbody>\n",
       "    <tr>\n",
       "      <th>1239</th>\n",
       "      <td>AV1YneDPglJLPUi8IJyQ</td>\n",
       "      <td>Finish</td>\n",
       "      <td>Household Essentials,Cleaning Supplies,Dish Detergents,Ways To Shop,Household Essentials Subscriptions,Kitchen,Dishwasher Detergent,Natural Cleaning,Glass Cleaners,Dish Detergent</td>\n",
       "      <td>Reckitt Benckiser</td>\n",
       "      <td>Finish Quantum Dishwasher Detergent, Lemon Sparkle Scent, 45 Count</td>\n",
       "      <td>2017-11-16T08:12:30.000Z</td>\n",
       "      <td>NaN</td>\n",
       "      <td>True</td>\n",
       "      <td>5</td>\n",
       "      <td>Great quality and a great price</td>\n",
       "      <td>NaN</td>\n",
       "      <td>NaN</td>\n",
       "      <td>NaN</td>\n",
       "      <td>queen 79</td>\n",
       "      <td>Positive</td>\n",
       "    </tr>\n",
       "    <tr>\n",
       "      <th>1441</th>\n",
       "      <td>AVpe_dxlilAPnD_xSiHI</td>\n",
       "      <td>The Seaweed Bath Co.</td>\n",
       "      <td>Personal Care,Hair Care,Conditioner,Beauty,Shampoo &amp; Conditioner,Salon Hair Care,Conditioners</td>\n",
       "      <td>The Seaweed Bath</td>\n",
       "      <td>The Seaweed Bath Co. Argan Conditioner, Smoothing Citrus</td>\n",
       "      <td>2013-11-07T00:00:00Z</td>\n",
       "      <td>NaN</td>\n",
       "      <td>NaN</td>\n",
       "      <td>3</td>\n",
       "      <td>Wanted to love this but it's a bit too heavy for me. I have mild psoriasis and this seemed to make it itch more?? think it's the argan oil - must be allergic.</td>\n",
       "      <td>NaN</td>\n",
       "      <td>NaN</td>\n",
       "      <td>NaN</td>\n",
       "      <td>julie</td>\n",
       "      <td>Positive</td>\n",
       "    </tr>\n",
       "    <tr>\n",
       "      <th>1442</th>\n",
       "      <td>AVpe_dxlilAPnD_xSiHI</td>\n",
       "      <td>The Seaweed Bath Co.</td>\n",
       "      <td>Personal Care,Hair Care,Conditioner,Beauty,Shampoo &amp; Conditioner,Salon Hair Care,Conditioners</td>\n",
       "      <td>The Seaweed Bath</td>\n",
       "      <td>The Seaweed Bath Co. Argan Conditioner, Smoothing Citrus</td>\n",
       "      <td>2015-02-09T00:00:00Z</td>\n",
       "      <td>NaN</td>\n",
       "      <td>NaN</td>\n",
       "      <td>3</td>\n",
       "      <td>I have thick coarse hair and for me this just worked ok. It did not smooth as much as other products I have tried. It has a scent that is acceptable.</td>\n",
       "      <td>NaN</td>\n",
       "      <td>NaN</td>\n",
       "      <td>NaN</td>\n",
       "      <td>lisa</td>\n",
       "      <td>Negative</td>\n",
       "    </tr>\n",
       "    <tr>\n",
       "      <th>1443</th>\n",
       "      <td>AVpe_dxlilAPnD_xSiHI</td>\n",
       "      <td>The Seaweed Bath Co.</td>\n",
       "      <td>Personal Care,Hair Care,Conditioner,Beauty,Shampoo &amp; Conditioner,Salon Hair Care,Conditioners</td>\n",
       "      <td>The Seaweed Bath</td>\n",
       "      <td>The Seaweed Bath Co. Argan Conditioner, Smoothing Citrus</td>\n",
       "      <td>2013-11-07T00:00:00Z</td>\n",
       "      <td>NaN</td>\n",
       "      <td>NaN</td>\n",
       "      <td>3</td>\n",
       "      <td>Wanted to love this but it's a bit too heavy for me. I have mild psoriasis and this seemed to make it itch moreI think it's the argan oil - must be allergic.</td>\n",
       "      <td>NaN</td>\n",
       "      <td>NaN</td>\n",
       "      <td>NaN</td>\n",
       "      <td>julie</td>\n",
       "      <td>Positive</td>\n",
       "    </tr>\n",
       "    <tr>\n",
       "      <th>1444</th>\n",
       "      <td>AVpe_dxlilAPnD_xSiHI</td>\n",
       "      <td>The Seaweed Bath Co.</td>\n",
       "      <td>Personal Care,Hair Care,Conditioner,Beauty,Shampoo &amp; Conditioner,Salon Hair Care,Conditioners</td>\n",
       "      <td>The Seaweed Bath</td>\n",
       "      <td>The Seaweed Bath Co. Argan Conditioner, Smoothing Citrus</td>\n",
       "      <td>2017-11-27T18:18:38.000Z</td>\n",
       "      <td>NaN</td>\n",
       "      <td>True</td>\n",
       "      <td>4</td>\n",
       "      <td>I actually really enjoy this conditioner. Have tried a whole bunch, both expensive and cheap. I have thick, curly and dry hair so I'm pretty particular about what I use. Smell is nice! I used it with the Moisturizing unscented shampoo and feel like the combo of the two is keeping my hair very healthy. I've also noticed less frizz as well. I've only used it a couple times but I only wash my hair once ever 4-5 days or so. Scalp isn't greasy and hair isn't dried out. Curls aren't too frizzy either!</td>\n",
       "      <td>NaN</td>\n",
       "      <td>NaN</td>\n",
       "      <td>NaN</td>\n",
       "      <td>aland</td>\n",
       "      <td>Positive</td>\n",
       "    </tr>\n",
       "  </tbody>\n",
       "</table>\n",
       "</div>"
      ],
      "text/plain": [
       "                        id                 brand  \\\n",
       "1239  AV1YneDPglJLPUi8IJyQ  Finish                 \n",
       "1441  AVpe_dxlilAPnD_xSiHI  The Seaweed Bath Co.   \n",
       "1442  AVpe_dxlilAPnD_xSiHI  The Seaweed Bath Co.   \n",
       "1443  AVpe_dxlilAPnD_xSiHI  The Seaweed Bath Co.   \n",
       "1444  AVpe_dxlilAPnD_xSiHI  The Seaweed Bath Co.   \n",
       "\n",
       "                                                                                                                                                                              categories  \\\n",
       "1239  Household Essentials,Cleaning Supplies,Dish Detergents,Ways To Shop,Household Essentials Subscriptions,Kitchen,Dishwasher Detergent,Natural Cleaning,Glass Cleaners,Dish Detergent   \n",
       "1441  Personal Care,Hair Care,Conditioner,Beauty,Shampoo & Conditioner,Salon Hair Care,Conditioners                                                                                        \n",
       "1442  Personal Care,Hair Care,Conditioner,Beauty,Shampoo & Conditioner,Salon Hair Care,Conditioners                                                                                        \n",
       "1443  Personal Care,Hair Care,Conditioner,Beauty,Shampoo & Conditioner,Salon Hair Care,Conditioners                                                                                        \n",
       "1444  Personal Care,Hair Care,Conditioner,Beauty,Shampoo & Conditioner,Salon Hair Care,Conditioners                                                                                        \n",
       "\n",
       "           manufacturer  \\\n",
       "1239  Reckitt Benckiser   \n",
       "1441  The Seaweed Bath    \n",
       "1442  The Seaweed Bath    \n",
       "1443  The Seaweed Bath    \n",
       "1444  The Seaweed Bath    \n",
       "\n",
       "                                                                    name  \\\n",
       "1239  Finish Quantum Dishwasher Detergent, Lemon Sparkle Scent, 45 Count   \n",
       "1441  The Seaweed Bath Co. Argan Conditioner, Smoothing Citrus             \n",
       "1442  The Seaweed Bath Co. Argan Conditioner, Smoothing Citrus             \n",
       "1443  The Seaweed Bath Co. Argan Conditioner, Smoothing Citrus             \n",
       "1444  The Seaweed Bath Co. Argan Conditioner, Smoothing Citrus             \n",
       "\n",
       "                  reviews_date reviews_didPurchase reviews_doRecommend  \\\n",
       "1239  2017-11-16T08:12:30.000Z  NaN                 True                 \n",
       "1441  2013-11-07T00:00:00Z      NaN                 NaN                  \n",
       "1442  2015-02-09T00:00:00Z      NaN                 NaN                  \n",
       "1443  2013-11-07T00:00:00Z      NaN                 NaN                  \n",
       "1444  2017-11-27T18:18:38.000Z  NaN                 True                 \n",
       "\n",
       "      reviews_rating  \\\n",
       "1239  5                \n",
       "1441  3                \n",
       "1442  3                \n",
       "1443  3                \n",
       "1444  4                \n",
       "\n",
       "                                                                                                                                                                                                                                                                                                                                                                                                                                                                                                              reviews_text  \\\n",
       "1239  Great quality and a great price                                                                                                                                                                                                                                                                                                                                                                                                                                                                                        \n",
       "1441  Wanted to love this but it's a bit too heavy for me. I have mild psoriasis and this seemed to make it itch more?? think it's the argan oil - must be allergic.                                                                                                                                                                                                                                                                                                                                                         \n",
       "1442  I have thick coarse hair and for me this just worked ok. It did not smooth as much as other products I have tried. It has a scent that is acceptable.                                                                                                                                                                                                                                                                                                                                                                  \n",
       "1443  Wanted to love this but it's a bit too heavy for me. I have mild psoriasis and this seemed to make it itch moreI think it's the argan oil - must be allergic.                                                                                                                                                                                                                                                                                                                                                          \n",
       "1444  I actually really enjoy this conditioner. Have tried a whole bunch, both expensive and cheap. I have thick, curly and dry hair so I'm pretty particular about what I use. Smell is nice! I used it with the Moisturizing unscented shampoo and feel like the combo of the two is keeping my hair very healthy. I've also noticed less frizz as well. I've only used it a couple times but I only wash my hair once ever 4-5 days or so. Scalp isn't greasy and hair isn't dried out. Curls aren't too frizzy either!   \n",
       "\n",
       "     reviews_title reviews_userCity reviews_userProvince reviews_username  \\\n",
       "1239  NaN           NaN              NaN                  queen 79          \n",
       "1441  NaN           NaN              NaN                  julie             \n",
       "1442  NaN           NaN              NaN                  lisa              \n",
       "1443  NaN           NaN              NaN                  julie             \n",
       "1444  NaN           NaN              NaN                  aland             \n",
       "\n",
       "     user_sentiment  \n",
       "1239  Positive       \n",
       "1441  Positive       \n",
       "1442  Negative       \n",
       "1443  Positive       \n",
       "1444  Positive       "
      ]
     },
     "execution_count": 23,
     "metadata": {},
     "output_type": "execute_result"
    }
   ],
   "source": [
    "ratings_df[ratings_df.reviews_title.isnull()].head()"
   ]
  },
  {
   "cell_type": "code",
   "execution_count": 24,
   "metadata": {
    "colab": {
     "base_uri": "https://localhost:8080/"
    },
    "id": "yxe6Ahik8-Fw",
    "outputId": "aee1ffe4-6cc1-46fc-876f-997f05b79f82"
   },
   "outputs": [
    {
     "data": {
      "text/plain": [
       "id                      0    \n",
       "brand                   0    \n",
       "categories              0    \n",
       "manufacturer            141  \n",
       "name                    0    \n",
       "reviews_date            46   \n",
       "reviews_didPurchase     14068\n",
       "reviews_doRecommend     2570 \n",
       "reviews_rating          0    \n",
       "reviews_text            0    \n",
       "reviews_title           0    \n",
       "reviews_userCity        28071\n",
       "reviews_userProvince    29830\n",
       "reviews_username        63   \n",
       "user_sentiment          1    \n",
       "dtype: int64"
      ]
     },
     "execution_count": 24,
     "metadata": {},
     "output_type": "execute_result"
    }
   ],
   "source": [
    "# replace missing reviews_title with emtpy string.\n",
    "ratings_df[\"reviews_title\"] = ratings_df.reviews_title.fillna('')\n",
    "ratings_df.isnull().sum()"
   ]
  },
  {
   "cell_type": "code",
   "execution_count": 25,
   "metadata": {
    "colab": {
     "base_uri": "https://localhost:8080/",
     "height": 552
    },
    "id": "miW-wzwO-B-Y",
    "outputId": "66ee0434-c913-46db-e0b7-ad6b49bdf972"
   },
   "outputs": [
    {
     "data": {
      "text/html": [
       "<div>\n",
       "<style scoped>\n",
       "    .dataframe tbody tr th:only-of-type {\n",
       "        vertical-align: middle;\n",
       "    }\n",
       "\n",
       "    .dataframe tbody tr th {\n",
       "        vertical-align: top;\n",
       "    }\n",
       "\n",
       "    .dataframe thead th {\n",
       "        text-align: right;\n",
       "    }\n",
       "</style>\n",
       "<table border=\"1\" class=\"dataframe\">\n",
       "  <thead>\n",
       "    <tr style=\"text-align: right;\">\n",
       "      <th></th>\n",
       "      <th>id</th>\n",
       "      <th>brand</th>\n",
       "      <th>categories</th>\n",
       "      <th>manufacturer</th>\n",
       "      <th>name</th>\n",
       "      <th>reviews_date</th>\n",
       "      <th>reviews_didPurchase</th>\n",
       "      <th>reviews_doRecommend</th>\n",
       "      <th>reviews_rating</th>\n",
       "      <th>reviews_text</th>\n",
       "      <th>reviews_title</th>\n",
       "      <th>reviews_userCity</th>\n",
       "      <th>reviews_userProvince</th>\n",
       "      <th>reviews_username</th>\n",
       "      <th>user_sentiment</th>\n",
       "    </tr>\n",
       "  </thead>\n",
       "  <tbody>\n",
       "    <tr>\n",
       "      <th>28354</th>\n",
       "      <td>AVpfRTh1ilAPnD_xYic2</td>\n",
       "      <td>Disney</td>\n",
       "      <td>Movies, Music &amp; Books,Movies,Kids' &amp; Family,Ways To Shop Entertainment,Movies &amp; Tv On Blu-Ray,Movies &amp; TV,Disney,Blu-ray,Children &amp; Family,Movies &amp; Music,Movies &amp; TV Shows,Electronics, Tech Toys, Movies, Music,Blu-Rays,See ALL Blu-Ray,Frys</td>\n",
       "      <td>Walt Disney</td>\n",
       "      <td>Planes: Fire Rescue (2 Discs) (includes Digital Copy) (blu-Ray/dvd)</td>\n",
       "      <td>2014-11-07T00:00:00.000Z</td>\n",
       "      <td>NaN</td>\n",
       "      <td>True</td>\n",
       "      <td>5</td>\n",
       "      <td>my kids absolutely loved this film so much that we watched it twice. Having a digital copy means that every time we get in the car we get to watch it wherever we go. we even got to use our $5 reward coupon towards the purchase of this movie so we got an additional $5 off + we got to add the points towards our next rewards coupon we love the savings we get at Best Buy</td>\n",
       "      <td>a super hit with my children. they loved it!!??</td>\n",
       "      <td>NaN</td>\n",
       "      <td>mamad</td>\n",
       "      <td>7.87E+11</td>\n",
       "      <td>NaN</td>\n",
       "    </tr>\n",
       "  </tbody>\n",
       "</table>\n",
       "</div>"
      ],
      "text/plain": [
       "                         id   brand  \\\n",
       "28354  AVpfRTh1ilAPnD_xYic2  Disney   \n",
       "\n",
       "                                                                                                                                                                                                                                            categories  \\\n",
       "28354  Movies, Music & Books,Movies,Kids' & Family,Ways To Shop Entertainment,Movies & Tv On Blu-Ray,Movies & TV,Disney,Blu-ray,Children & Family,Movies & Music,Movies & TV Shows,Electronics, Tech Toys, Movies, Music,Blu-Rays,See ALL Blu-Ray,Frys   \n",
       "\n",
       "      manufacturer  \\\n",
       "28354  Walt Disney   \n",
       "\n",
       "                                                                      name  \\\n",
       "28354  Planes: Fire Rescue (2 Discs) (includes Digital Copy) (blu-Ray/dvd)   \n",
       "\n",
       "                   reviews_date reviews_didPurchase reviews_doRecommend  \\\n",
       "28354  2014-11-07T00:00:00.000Z  NaN                 True                 \n",
       "\n",
       "       reviews_rating  \\\n",
       "28354  5                \n",
       "\n",
       "                                                                                                                                                                                                                                                                                                                                                                            reviews_text  \\\n",
       "28354  my kids absolutely loved this film so much that we watched it twice. Having a digital copy means that every time we get in the car we get to watch it wherever we go. we even got to use our $5 reward coupon towards the purchase of this movie so we got an additional $5 off + we got to add the points towards our next rewards coupon we love the savings we get at Best Buy   \n",
       "\n",
       "                                         reviews_title reviews_userCity  \\\n",
       "28354  a super hit with my children. they loved it!!??  NaN               \n",
       "\n",
       "      reviews_userProvince reviews_username user_sentiment  \n",
       "28354  mamad                7.87E+11         NaN            "
      ]
     },
     "execution_count": 25,
     "metadata": {},
     "output_type": "execute_result"
    }
   ],
   "source": [
    "ratings_df[ratings_df[\"user_sentiment\"].isnull()]"
   ]
  },
  {
   "cell_type": "code",
   "execution_count": 26,
   "metadata": {
    "colab": {
     "base_uri": "https://localhost:8080/"
    },
    "id": "j7ee6ZXr-IrZ",
    "outputId": "2716b95d-2e44-4fdb-c0c8-5c31c4fe61aa"
   },
   "outputs": [
    {
     "data": {
      "text/plain": [
       "id                      0    \n",
       "brand                   0    \n",
       "categories              0    \n",
       "manufacturer            141  \n",
       "name                    0    \n",
       "reviews_date            46   \n",
       "reviews_didPurchase     14068\n",
       "reviews_doRecommend     2570 \n",
       "reviews_rating          0    \n",
       "reviews_text            0    \n",
       "reviews_title           0    \n",
       "reviews_userCity        28071\n",
       "reviews_userProvince    29830\n",
       "reviews_username        63   \n",
       "user_sentiment          0    \n",
       "dtype: int64"
      ]
     },
     "execution_count": 26,
     "metadata": {},
     "output_type": "execute_result"
    }
   ],
   "source": [
    "# since the rating is 5, we will impute the missing sentiment value with Positive\n",
    "ratings_df[\"user_sentiment\"] = ratings_df.user_sentiment.fillna('Positive')\n",
    "ratings_df.isnull().sum()"
   ]
  },
  {
   "cell_type": "markdown",
   "metadata": {
    "id": "Ej26ZkW-3V7b"
   },
   "source": [
    "#### **Create reviews_text_w_title column by concatination reviews title and text**"
   ]
  },
  {
   "cell_type": "code",
   "execution_count": 27,
   "metadata": {
    "colab": {
     "base_uri": "https://localhost:8080/"
    },
    "id": "lixmSx5eXq_4",
    "outputId": "014af369-c0fb-48e4-e3be-25273ca743b6"
   },
   "outputs": [
    {
     "data": {
      "text/html": [
       "<div>\n",
       "<style scoped>\n",
       "    .dataframe tbody tr th:only-of-type {\n",
       "        vertical-align: middle;\n",
       "    }\n",
       "\n",
       "    .dataframe tbody tr th {\n",
       "        vertical-align: top;\n",
       "    }\n",
       "\n",
       "    .dataframe thead th {\n",
       "        text-align: right;\n",
       "    }\n",
       "</style>\n",
       "<table border=\"1\" class=\"dataframe\">\n",
       "  <thead>\n",
       "    <tr style=\"text-align: right;\">\n",
       "      <th></th>\n",
       "      <th>id</th>\n",
       "      <th>brand</th>\n",
       "      <th>categories</th>\n",
       "      <th>manufacturer</th>\n",
       "      <th>name</th>\n",
       "      <th>reviews_date</th>\n",
       "      <th>reviews_didPurchase</th>\n",
       "      <th>reviews_doRecommend</th>\n",
       "      <th>reviews_rating</th>\n",
       "      <th>reviews_text</th>\n",
       "      <th>reviews_title</th>\n",
       "      <th>reviews_userCity</th>\n",
       "      <th>reviews_userProvince</th>\n",
       "      <th>reviews_username</th>\n",
       "      <th>user_sentiment</th>\n",
       "      <th>reviews_text_w_title</th>\n",
       "    </tr>\n",
       "  </thead>\n",
       "  <tbody>\n",
       "    <tr>\n",
       "      <th>0</th>\n",
       "      <td>AV13O1A8GV-KLJ3akUyj</td>\n",
       "      <td>Universal Music</td>\n",
       "      <td>Movies, Music &amp; Books,Music,R&amp;b,Movies &amp; TV,Movie Bundles &amp; Collections,CDs &amp; Vinyl,Rap &amp; Hip-Hop,Bass,Music on CD or Vinyl,Rap,Hip-Hop,Mainstream Rap,Pop Rap</td>\n",
       "      <td>Universal Music Group / Cash Money</td>\n",
       "      <td>Pink Friday: Roman Reloaded Re-Up (w/dvd)</td>\n",
       "      <td>2012-11-30T06:21:45.000Z</td>\n",
       "      <td>NaN</td>\n",
       "      <td>NaN</td>\n",
       "      <td>5</td>\n",
       "      <td>i love this album. it's very good. more to the hip hop side than her current pop sound.. SO HYPE! i listen to this everyday at the gym! i give it 5star rating all the way. her metaphors are just crazy.</td>\n",
       "      <td>Just Awesome</td>\n",
       "      <td>Los Angeles</td>\n",
       "      <td>NaN</td>\n",
       "      <td>joshua</td>\n",
       "      <td>Positive</td>\n",
       "      <td>Just Awesome. i love this album. it's very good. more to the hip hop side than her current pop sound.. SO HYPE! i listen to this everyday at the gym! i give it 5star rating all the way. her metaphors are just crazy.</td>\n",
       "    </tr>\n",
       "    <tr>\n",
       "      <th>1</th>\n",
       "      <td>AV14LG0R-jtxr-f38QfS</td>\n",
       "      <td>Lundberg</td>\n",
       "      <td>Food,Packaged Foods,Snacks,Crackers,Snacks, Cookies &amp; Chips,Rice Cakes,Cakes</td>\n",
       "      <td>Lundberg</td>\n",
       "      <td>Lundberg Organic Cinnamon Toast Rice Cakes</td>\n",
       "      <td>2017-07-09T00:00:00.000Z</td>\n",
       "      <td>True</td>\n",
       "      <td>NaN</td>\n",
       "      <td>5</td>\n",
       "      <td>Good flavor. This review was collected as part of a promotion.</td>\n",
       "      <td>Good</td>\n",
       "      <td>NaN</td>\n",
       "      <td>NaN</td>\n",
       "      <td>dorothy w</td>\n",
       "      <td>Positive</td>\n",
       "      <td>Good. Good flavor. This review was collected as part of a promotion.</td>\n",
       "    </tr>\n",
       "    <tr>\n",
       "      <th>2</th>\n",
       "      <td>AV14LG0R-jtxr-f38QfS</td>\n",
       "      <td>Lundberg</td>\n",
       "      <td>Food,Packaged Foods,Snacks,Crackers,Snacks, Cookies &amp; Chips,Rice Cakes,Cakes</td>\n",
       "      <td>Lundberg</td>\n",
       "      <td>Lundberg Organic Cinnamon Toast Rice Cakes</td>\n",
       "      <td>2017-07-09T00:00:00.000Z</td>\n",
       "      <td>True</td>\n",
       "      <td>NaN</td>\n",
       "      <td>5</td>\n",
       "      <td>Good flavor.</td>\n",
       "      <td>Good</td>\n",
       "      <td>NaN</td>\n",
       "      <td>NaN</td>\n",
       "      <td>dorothy w</td>\n",
       "      <td>Positive</td>\n",
       "      <td>Good. Good flavor.</td>\n",
       "    </tr>\n",
       "    <tr>\n",
       "      <th>3</th>\n",
       "      <td>AV16khLE-jtxr-f38VFn</td>\n",
       "      <td>K-Y</td>\n",
       "      <td>Personal Care,Medicine Cabinet,Lubricant/Spermicide,Health,Sexual Wellness,Lubricants</td>\n",
       "      <td>K-Y</td>\n",
       "      <td>K-Y Love Sensuality Pleasure Gel</td>\n",
       "      <td>2016-01-06T00:00:00.000Z</td>\n",
       "      <td>False</td>\n",
       "      <td>False</td>\n",
       "      <td>1</td>\n",
       "      <td>I read through the reviews on here before looking in to buying one of the couples lubricants, and was ultimately disappointed that it didn't even live up to the reviews I had read. For starters, neither my boyfriend nor I could notice any sort of enhanced or 'captivating' sensation. What we did notice, however, was the messy consistency that was reminiscent of a more liquid-y vaseline. It was difficult to clean up, and was not a pleasant, especially since it lacked the 'captivating' sensation we had both been expecting. I'm disappointed that I paid as much as I did for a lube that I won't use again, when I could just use their normal personal lubricant for 1) less money and 2) less mess.</td>\n",
       "      <td>Disappointed</td>\n",
       "      <td>NaN</td>\n",
       "      <td>NaN</td>\n",
       "      <td>rebecca</td>\n",
       "      <td>Negative</td>\n",
       "      <td>Disappointed. I read through the reviews on here before looking in to buying one of the couples lubricants, and was ultimately disappointed that it didn't even live up to the reviews I had read. For starters, neither my boyfriend nor I could notice any sort of enhanced or 'captivating' sensation. What we did notice, however, was the messy consistency that was reminiscent of a more liquid-y vaseline. It was difficult to clean up, and was not a pleasant, especially since it lacked the 'captivating' sensation we had both been expecting. I'm disappointed that I paid as much as I did for a lube that I won't use again, when I could just use their normal personal lubricant for 1) less money and 2) less mess.</td>\n",
       "    </tr>\n",
       "    <tr>\n",
       "      <th>4</th>\n",
       "      <td>AV16khLE-jtxr-f38VFn</td>\n",
       "      <td>K-Y</td>\n",
       "      <td>Personal Care,Medicine Cabinet,Lubricant/Spermicide,Health,Sexual Wellness,Lubricants</td>\n",
       "      <td>K-Y</td>\n",
       "      <td>K-Y Love Sensuality Pleasure Gel</td>\n",
       "      <td>2016-12-21T00:00:00.000Z</td>\n",
       "      <td>False</td>\n",
       "      <td>False</td>\n",
       "      <td>1</td>\n",
       "      <td>My husband bought this gel for us. The gel caused irritation and it felt like it was burning my skin. I wouldn't recommend this gel.</td>\n",
       "      <td>Irritation</td>\n",
       "      <td>NaN</td>\n",
       "      <td>NaN</td>\n",
       "      <td>walker557</td>\n",
       "      <td>Negative</td>\n",
       "      <td>Irritation. My husband bought this gel for us. The gel caused irritation and it felt like it was burning my skin. I wouldn't recommend this gel.</td>\n",
       "    </tr>\n",
       "  </tbody>\n",
       "</table>\n",
       "</div>"
      ],
      "text/plain": [
       "                     id            brand  \\\n",
       "0  AV13O1A8GV-KLJ3akUyj  Universal Music   \n",
       "1  AV14LG0R-jtxr-f38QfS  Lundberg          \n",
       "2  AV14LG0R-jtxr-f38QfS  Lundberg          \n",
       "3  AV16khLE-jtxr-f38VFn  K-Y               \n",
       "4  AV16khLE-jtxr-f38VFn  K-Y               \n",
       "\n",
       "                                                                                                                                                       categories  \\\n",
       "0  Movies, Music & Books,Music,R&b,Movies & TV,Movie Bundles & Collections,CDs & Vinyl,Rap & Hip-Hop,Bass,Music on CD or Vinyl,Rap,Hip-Hop,Mainstream Rap,Pop Rap   \n",
       "1  Food,Packaged Foods,Snacks,Crackers,Snacks, Cookies & Chips,Rice Cakes,Cakes                                                                                     \n",
       "2  Food,Packaged Foods,Snacks,Crackers,Snacks, Cookies & Chips,Rice Cakes,Cakes                                                                                     \n",
       "3  Personal Care,Medicine Cabinet,Lubricant/Spermicide,Health,Sexual Wellness,Lubricants                                                                            \n",
       "4  Personal Care,Medicine Cabinet,Lubricant/Spermicide,Health,Sexual Wellness,Lubricants                                                                            \n",
       "\n",
       "                         manufacturer  \\\n",
       "0  Universal Music Group / Cash Money   \n",
       "1  Lundberg                             \n",
       "2  Lundberg                             \n",
       "3  K-Y                                  \n",
       "4  K-Y                                  \n",
       "\n",
       "                                         name              reviews_date  \\\n",
       "0  Pink Friday: Roman Reloaded Re-Up (w/dvd)   2012-11-30T06:21:45.000Z   \n",
       "1  Lundberg Organic Cinnamon Toast Rice Cakes  2017-07-09T00:00:00.000Z   \n",
       "2  Lundberg Organic Cinnamon Toast Rice Cakes  2017-07-09T00:00:00.000Z   \n",
       "3  K-Y Love Sensuality Pleasure Gel            2016-01-06T00:00:00.000Z   \n",
       "4  K-Y Love Sensuality Pleasure Gel            2016-12-21T00:00:00.000Z   \n",
       "\n",
       "  reviews_didPurchase reviews_doRecommend  reviews_rating  \\\n",
       "0  NaN                 NaN                 5                \n",
       "1  True                NaN                 5                \n",
       "2  True                NaN                 5                \n",
       "3  False               False               1                \n",
       "4  False               False               1                \n",
       "\n",
       "                                                                                                                                                                                                                                                                                                                                                                                                                                                                                                                                                                                                                                                                                                               reviews_text  \\\n",
       "0  i love this album. it's very good. more to the hip hop side than her current pop sound.. SO HYPE! i listen to this everyday at the gym! i give it 5star rating all the way. her metaphors are just crazy.                                                                                                                                                                                                                                                                                                                                                                                                                                                                                                                  \n",
       "1  Good flavor. This review was collected as part of a promotion.                                                                                                                                                                                                                                                                                                                                                                                                                                                                                                                                                                                                                                                             \n",
       "2  Good flavor.                                                                                                                                                                                                                                                                                                                                                                                                                                                                                                                                                                                                                                                                                                               \n",
       "3  I read through the reviews on here before looking in to buying one of the couples lubricants, and was ultimately disappointed that it didn't even live up to the reviews I had read. For starters, neither my boyfriend nor I could notice any sort of enhanced or 'captivating' sensation. What we did notice, however, was the messy consistency that was reminiscent of a more liquid-y vaseline. It was difficult to clean up, and was not a pleasant, especially since it lacked the 'captivating' sensation we had both been expecting. I'm disappointed that I paid as much as I did for a lube that I won't use again, when I could just use their normal personal lubricant for 1) less money and 2) less mess.   \n",
       "4  My husband bought this gel for us. The gel caused irritation and it felt like it was burning my skin. I wouldn't recommend this gel.                                                                                                                                                                                                                                                                                                                                                                                                                                                                                                                                                                                       \n",
       "\n",
       "  reviews_title reviews_userCity reviews_userProvince reviews_username  \\\n",
       "0  Just Awesome  Los Angeles      NaN                  joshua            \n",
       "1  Good          NaN              NaN                  dorothy w         \n",
       "2  Good          NaN              NaN                  dorothy w         \n",
       "3  Disappointed  NaN              NaN                  rebecca           \n",
       "4  Irritation    NaN              NaN                  walker557         \n",
       "\n",
       "  user_sentiment  \\\n",
       "0  Positive        \n",
       "1  Positive        \n",
       "2  Positive        \n",
       "3  Negative        \n",
       "4  Negative        \n",
       "\n",
       "                                                                                                                                                                                                                                                                                                                                                                                                                                                                                                                                                                                                                                                                                                                     reviews_text_w_title  \n",
       "0  Just Awesome. i love this album. it's very good. more to the hip hop side than her current pop sound.. SO HYPE! i listen to this everyday at the gym! i give it 5star rating all the way. her metaphors are just crazy.                                                                                                                                                                                                                                                                                                                                                                                                                                                                                                                 \n",
       "1  Good. Good flavor. This review was collected as part of a promotion.                                                                                                                                                                                                                                                                                                                                                                                                                                                                                                                                                                                                                                                                    \n",
       "2  Good. Good flavor.                                                                                                                                                                                                                                                                                                                                                                                                                                                                                                                                                                                                                                                                                                                      \n",
       "3  Disappointed. I read through the reviews on here before looking in to buying one of the couples lubricants, and was ultimately disappointed that it didn't even live up to the reviews I had read. For starters, neither my boyfriend nor I could notice any sort of enhanced or 'captivating' sensation. What we did notice, however, was the messy consistency that was reminiscent of a more liquid-y vaseline. It was difficult to clean up, and was not a pleasant, especially since it lacked the 'captivating' sensation we had both been expecting. I'm disappointed that I paid as much as I did for a lube that I won't use again, when I could just use their normal personal lubricant for 1) less money and 2) less mess.  \n",
       "4  Irritation. My husband bought this gel for us. The gel caused irritation and it felt like it was burning my skin. I wouldn't recommend this gel.                                                                                                                                                                                                                                                                                                                                                                                                                                                                                                                                                                                        "
      ]
     },
     "execution_count": 27,
     "metadata": {},
     "output_type": "execute_result"
    }
   ],
   "source": [
    "# Create a new columns which includes both reviews title and text.\n",
    "ratings_df['reviews_text_w_title'] = ratings_df['reviews_title'] + '. ' + ratings_df['reviews_text']\n",
    "ratings_df.head()"
   ]
  },
  {
   "cell_type": "code",
   "execution_count": 28,
   "metadata": {
    "colab": {
     "base_uri": "https://localhost:8080/"
    },
    "id": "IVv4BU6LYUWt",
    "outputId": "eec1eab2-aead-4d9e-b895-1b26c30c1329"
   },
   "outputs": [
    {
     "data": {
      "text/plain": [
       "Index(['id', 'brand', 'categories', 'manufacturer', 'name', 'reviews_date',\n",
       "       'reviews_didPurchase', 'reviews_doRecommend', 'reviews_rating',\n",
       "       'reviews_userCity', 'reviews_userProvince', 'reviews_username',\n",
       "       'user_sentiment', 'reviews_text_w_title'],\n",
       "      dtype='object')"
      ]
     },
     "execution_count": 28,
     "metadata": {},
     "output_type": "execute_result"
    }
   ],
   "source": [
    "# Drop reviews_title and reviews_text, after deriving reviews_text_w_title\n",
    "ratings_df.drop(columns=['reviews_text', 'reviews_title'], inplace=True)\n",
    "ratings_df.columns"
   ]
  },
  {
   "cell_type": "code",
   "execution_count": 29,
   "metadata": {
    "colab": {
     "base_uri": "https://localhost:8080/"
    },
    "id": "shRga-I4-3lN",
    "outputId": "2b4732b8-d6cd-4e44-d922-f7bdd10d4d90"
   },
   "outputs": [
    {
     "data": {
      "text/plain": [
       "Index(['id', 'brand', 'categories', 'manufacturer', 'name', 'reviews_date',\n",
       "       'reviews_didPurchase', 'reviews_doRecommend', 'reviews_rating',\n",
       "       'reviews_userCity', 'reviews_userProvince', 'reviews_username',\n",
       "       'user_sentiment', 'reviews_text'],\n",
       "      dtype='object')"
      ]
     },
     "execution_count": 29,
     "metadata": {},
     "output_type": "execute_result"
    }
   ],
   "source": [
    "# Rename reviews_text_w_title with reviews_text.\n",
    "ratings_df.rename(columns={\"reviews_text_w_title\": \"reviews_text\"}, inplace=True)\n",
    "ratings_df.columns"
   ]
  },
  {
   "cell_type": "markdown",
   "metadata": {
    "id": "Ke-uSHPH3gey"
   },
   "source": [
    "#### **Make user_sentiment column numeric. Convert Positive = 1 and Negative = 0**"
   ]
  },
  {
   "cell_type": "code",
   "execution_count": 30,
   "metadata": {
    "colab": {
     "base_uri": "https://localhost:8080/"
    },
    "id": "YZCMrH4aZfxh",
    "outputId": "35794336-77c5-4e6a-eb20-182dccc30389"
   },
   "outputs": [
    {
     "data": {
      "text/plain": [
       "Positive    26633\n",
       "Negative    3367 \n",
       "Name: user_sentiment, dtype: int64"
      ]
     },
     "execution_count": 30,
     "metadata": {},
     "output_type": "execute_result"
    }
   ],
   "source": [
    "ratings_df.user_sentiment.value_counts()"
   ]
  },
  {
   "cell_type": "code",
   "execution_count": 31,
   "metadata": {
    "colab": {
     "base_uri": "https://localhost:8080/"
    },
    "id": "ySqKf0AexyQl",
    "outputId": "15702ffa-7503-4b92-fb78-cb6865e7efb0"
   },
   "outputs": [
    {
     "data": {
      "text/plain": [
       "1    26633\n",
       "0    3367 \n",
       "Name: user_sentiment, dtype: int64"
      ]
     },
     "execution_count": 31,
     "metadata": {},
     "output_type": "execute_result"
    }
   ],
   "source": [
    "ratings_df['user_sentiment'] = ratings_df.user_sentiment.map({\n",
    "    'Positive': 1,\n",
    "    'Negative': 0\n",
    "})\n",
    "ratings_df.user_sentiment.value_counts()"
   ]
  },
  {
   "cell_type": "markdown",
   "metadata": {
    "id": "s_pqEKAs35ri"
   },
   "source": [
    "### **Drop duplicates (name, reviews_username) pairs and keep the last one**"
   ]
  },
  {
   "cell_type": "code",
   "execution_count": 32,
   "metadata": {
    "colab": {
     "base_uri": "https://localhost:8080/"
    },
    "id": "V2kmY6pb38eX",
    "outputId": "d5b55bad-b4ec-4b87-dda7-331aa6ac3c00"
   },
   "outputs": [
    {
     "data": {
      "text/html": [
       "<div>\n",
       "<style scoped>\n",
       "    .dataframe tbody tr th:only-of-type {\n",
       "        vertical-align: middle;\n",
       "    }\n",
       "\n",
       "    .dataframe tbody tr th {\n",
       "        vertical-align: top;\n",
       "    }\n",
       "\n",
       "    .dataframe thead th {\n",
       "        text-align: right;\n",
       "    }\n",
       "</style>\n",
       "<table border=\"1\" class=\"dataframe\">\n",
       "  <thead>\n",
       "    <tr style=\"text-align: right;\">\n",
       "      <th></th>\n",
       "      <th>id</th>\n",
       "      <th>brand</th>\n",
       "      <th>categories</th>\n",
       "      <th>manufacturer</th>\n",
       "      <th>name</th>\n",
       "      <th>reviews_date</th>\n",
       "      <th>reviews_didPurchase</th>\n",
       "      <th>reviews_doRecommend</th>\n",
       "      <th>reviews_rating</th>\n",
       "      <th>reviews_userCity</th>\n",
       "      <th>reviews_userProvince</th>\n",
       "      <th>reviews_username</th>\n",
       "      <th>user_sentiment</th>\n",
       "      <th>reviews_text</th>\n",
       "    </tr>\n",
       "  </thead>\n",
       "  <tbody>\n",
       "    <tr>\n",
       "      <th>2</th>\n",
       "      <td>AV14LG0R-jtxr-f38QfS</td>\n",
       "      <td>Lundberg</td>\n",
       "      <td>Food,Packaged Foods,Snacks,Crackers,Snacks, Cookies &amp; Chips,Rice Cakes,Cakes</td>\n",
       "      <td>Lundberg</td>\n",
       "      <td>Lundberg Organic Cinnamon Toast Rice Cakes</td>\n",
       "      <td>2017-07-09T00:00:00.000Z</td>\n",
       "      <td>True</td>\n",
       "      <td>NaN</td>\n",
       "      <td>5</td>\n",
       "      <td>NaN</td>\n",
       "      <td>NaN</td>\n",
       "      <td>dorothy w</td>\n",
       "      <td>1</td>\n",
       "      <td>Good. Good flavor.</td>\n",
       "    </tr>\n",
       "    <tr>\n",
       "      <th>12</th>\n",
       "      <td>AV16khLE-jtxr-f38VFn</td>\n",
       "      <td>K-Y</td>\n",
       "      <td>Personal Care,Medicine Cabinet,Lubricant/Spermicide,Health,Sexual Wellness,Lubricants</td>\n",
       "      <td>K-Y</td>\n",
       "      <td>K-Y Love Sensuality Pleasure Gel</td>\n",
       "      <td>2016-04-08T00:00:00.000Z</td>\n",
       "      <td>False</td>\n",
       "      <td>False</td>\n",
       "      <td>1</td>\n",
       "      <td>NaN</td>\n",
       "      <td>NaN</td>\n",
       "      <td>jds1992</td>\n",
       "      <td>0</td>\n",
       "      <td>waste of money. Bought this to enhance our time a bit, did abslutely nothing very disappointed especially because its almost 20!</td>\n",
       "    </tr>\n",
       "    <tr>\n",
       "      <th>44</th>\n",
       "      <td>AV1h6Gu0glJLPUi8IjA_</td>\n",
       "      <td>Johnson's</td>\n",
       "      <td>Personal Care,Baby Care,Baby Bubble Bath,Baby,Bath &amp; Potty,Toiletries,Bubble Bath,Baby Bath,Bath &amp; Body,Body Wash &amp; Cleansers</td>\n",
       "      <td>Johnson's</td>\n",
       "      <td>Johnson's Baby Bubble Bath and Wash, 15oz</td>\n",
       "      <td>2017-05-09T00:00:00.000Z</td>\n",
       "      <td>False</td>\n",
       "      <td>True</td>\n",
       "      <td>4</td>\n",
       "      <td>NaN</td>\n",
       "      <td>NaN</td>\n",
       "      <td>solo</td>\n",
       "      <td>1</td>\n",
       "      <td>2 in 1!!!. Well, Johnson's need I say more I know, right. Ok, but I will. I have used Johnson's since I was a baby, yes it's been a long time. But let's get to the Chase, it's 2 in 1. Come on, who doesn't like 2 in 1 It's hard enough to get the little loves clean, so any help is always a blessing... So, Johnson's Bubble Bath and wash is a must have in this house!!!</td>\n",
       "    </tr>\n",
       "    <tr>\n",
       "      <th>79</th>\n",
       "      <td>AV1l8zRZvKc47QAVhnAv</td>\n",
       "      <td>Olay</td>\n",
       "      <td>Personal Care,Skin Care,Anti-Aging,Beauty,Face Moisturizers,Facial Moisturizers,Moisturizers,Creams &amp; Moisturizers</td>\n",
       "      <td>P&amp;G</td>\n",
       "      <td>Olay Regenerist Deep Hydration Regenerating Cream</td>\n",
       "      <td>2016-04-30T00:00:00.000Z</td>\n",
       "      <td>False</td>\n",
       "      <td>True</td>\n",
       "      <td>3</td>\n",
       "      <td>NaN</td>\n",
       "      <td>NaN</td>\n",
       "      <td>mylifeinheels</td>\n",
       "      <td>1</td>\n",
       "      <td>Why No fragrance-free Formula. Today is my first time using this product. Felt great going on immediately, felt moisturized without being too greasy. Although it smells great I would have loved to have this formula in a fragrance-free option, my skin tends to be a little sensitive to fragrances, but I will give a final review in a couple of weeks</td>\n",
       "    </tr>\n",
       "    <tr>\n",
       "      <th>90</th>\n",
       "      <td>AV1l8zRZvKc47QAVhnAv</td>\n",
       "      <td>Olay</td>\n",
       "      <td>Personal Care,Skin Care,Anti-Aging,Beauty,Face Moisturizers,Facial Moisturizers,Moisturizers,Creams &amp; Moisturizers</td>\n",
       "      <td>P&amp;G</td>\n",
       "      <td>Olay Regenerist Deep Hydration Regenerating Cream</td>\n",
       "      <td>2016-04-30T03:08:38.000Z</td>\n",
       "      <td>NaN</td>\n",
       "      <td>True</td>\n",
       "      <td>3</td>\n",
       "      <td>Brooklyn</td>\n",
       "      <td>NaN</td>\n",
       "      <td>mylifeinheels</td>\n",
       "      <td>1</td>\n",
       "      <td>Why No Fragrance-free Formula. Today is my first time using this product. Felt great going on immediately, felt moisturized without being too greasy. Although it smells great I would have loved to have this formula in a fragrance-free option, my skin tends to be a little sensitive to fragrances, but I will give a final review in a couple of weeks</td>\n",
       "    </tr>\n",
       "  </tbody>\n",
       "</table>\n",
       "</div>"
      ],
      "text/plain": [
       "                      id      brand  \\\n",
       "2   AV14LG0R-jtxr-f38QfS  Lundberg    \n",
       "12  AV16khLE-jtxr-f38VFn  K-Y         \n",
       "44  AV1h6Gu0glJLPUi8IjA_  Johnson's   \n",
       "79  AV1l8zRZvKc47QAVhnAv  Olay        \n",
       "90  AV1l8zRZvKc47QAVhnAv  Olay        \n",
       "\n",
       "                                                                                                                       categories  \\\n",
       "2   Food,Packaged Foods,Snacks,Crackers,Snacks, Cookies & Chips,Rice Cakes,Cakes                                                    \n",
       "12  Personal Care,Medicine Cabinet,Lubricant/Spermicide,Health,Sexual Wellness,Lubricants                                           \n",
       "44  Personal Care,Baby Care,Baby Bubble Bath,Baby,Bath & Potty,Toiletries,Bubble Bath,Baby Bath,Bath & Body,Body Wash & Cleansers   \n",
       "79  Personal Care,Skin Care,Anti-Aging,Beauty,Face Moisturizers,Facial Moisturizers,Moisturizers,Creams & Moisturizers              \n",
       "90  Personal Care,Skin Care,Anti-Aging,Beauty,Face Moisturizers,Facial Moisturizers,Moisturizers,Creams & Moisturizers              \n",
       "\n",
       "   manufacturer                                               name  \\\n",
       "2   Lundberg     Lundberg Organic Cinnamon Toast Rice Cakes          \n",
       "12  K-Y          K-Y Love Sensuality Pleasure Gel                    \n",
       "44  Johnson's    Johnson's Baby Bubble Bath and Wash, 15oz           \n",
       "79  P&G          Olay Regenerist Deep Hydration Regenerating Cream   \n",
       "90  P&G          Olay Regenerist Deep Hydration Regenerating Cream   \n",
       "\n",
       "                reviews_date reviews_didPurchase reviews_doRecommend  \\\n",
       "2   2017-07-09T00:00:00.000Z  True                NaN                  \n",
       "12  2016-04-08T00:00:00.000Z  False               False                \n",
       "44  2017-05-09T00:00:00.000Z  False               True                 \n",
       "79  2016-04-30T00:00:00.000Z  False               True                 \n",
       "90  2016-04-30T03:08:38.000Z  NaN                 True                 \n",
       "\n",
       "    reviews_rating reviews_userCity reviews_userProvince reviews_username  \\\n",
       "2   5               NaN              NaN                  dorothy w         \n",
       "12  1               NaN              NaN                  jds1992           \n",
       "44  4               NaN              NaN                  solo              \n",
       "79  3               NaN              NaN                  mylifeinheels     \n",
       "90  3               Brooklyn         NaN                  mylifeinheels     \n",
       "\n",
       "    user_sentiment  \\\n",
       "2   1                \n",
       "12  0                \n",
       "44  1                \n",
       "79  1                \n",
       "90  1                \n",
       "\n",
       "                                                                                                                                                                                                                                                                                                                                                                       reviews_text  \n",
       "2   Good. Good flavor.                                                                                                                                                                                                                                                                                                                                                               \n",
       "12  waste of money. Bought this to enhance our time a bit, did abslutely nothing very disappointed especially because its almost 20!                                                                                                                                                                                                                                                 \n",
       "44  2 in 1!!!. Well, Johnson's need I say more I know, right. Ok, but I will. I have used Johnson's since I was a baby, yes it's been a long time. But let's get to the Chase, it's 2 in 1. Come on, who doesn't like 2 in 1 It's hard enough to get the little loves clean, so any help is always a blessing... So, Johnson's Bubble Bath and wash is a must have in this house!!!  \n",
       "79  Why No fragrance-free Formula. Today is my first time using this product. Felt great going on immediately, felt moisturized without being too greasy. Although it smells great I would have loved to have this formula in a fragrance-free option, my skin tends to be a little sensitive to fragrances, but I will give a final review in a couple of weeks                     \n",
       "90  Why No Fragrance-free Formula. Today is my first time using this product. Felt great going on immediately, felt moisturized without being too greasy. Although it smells great I would have loved to have this formula in a fragrance-free option, my skin tends to be a little sensitive to fragrances, but I will give a final review in a couple of weeks                     "
      ]
     },
     "execution_count": 32,
     "metadata": {},
     "output_type": "execute_result"
    }
   ],
   "source": [
    "# List duplicate entries\n",
    "ratings_df[ratings_df.duplicated(subset=['name','reviews_username'])].head(5)"
   ]
  },
  {
   "cell_type": "code",
   "execution_count": 33,
   "metadata": {
    "colab": {
     "base_uri": "https://localhost:8080/",
     "height": 479
    },
    "id": "IJbMmdxc384W",
    "outputId": "b9e04fbb-8fe2-466b-d464-50cc68097722"
   },
   "outputs": [
    {
     "data": {
      "text/html": [
       "<div>\n",
       "<style scoped>\n",
       "    .dataframe tbody tr th:only-of-type {\n",
       "        vertical-align: middle;\n",
       "    }\n",
       "\n",
       "    .dataframe tbody tr th {\n",
       "        vertical-align: top;\n",
       "    }\n",
       "\n",
       "    .dataframe thead th {\n",
       "        text-align: right;\n",
       "    }\n",
       "</style>\n",
       "<table border=\"1\" class=\"dataframe\">\n",
       "  <thead>\n",
       "    <tr style=\"text-align: right;\">\n",
       "      <th></th>\n",
       "      <th>id</th>\n",
       "      <th>brand</th>\n",
       "      <th>categories</th>\n",
       "      <th>manufacturer</th>\n",
       "      <th>name</th>\n",
       "      <th>reviews_date</th>\n",
       "      <th>reviews_didPurchase</th>\n",
       "      <th>reviews_doRecommend</th>\n",
       "      <th>reviews_rating</th>\n",
       "      <th>reviews_userCity</th>\n",
       "      <th>reviews_userProvince</th>\n",
       "      <th>reviews_username</th>\n",
       "      <th>user_sentiment</th>\n",
       "      <th>reviews_text</th>\n",
       "    </tr>\n",
       "  </thead>\n",
       "  <tbody>\n",
       "    <tr>\n",
       "      <th>5250</th>\n",
       "      <td>AVpf0eb2LJeJML43EVSt</td>\n",
       "      <td>Sony Pictures</td>\n",
       "      <td>Movies, Music &amp; Books,Ways To Shop Entertainment,Movie &amp; Tv Box Sets,Movies,Horror,Movies &amp; TV Shows,All Horror,Movies &amp; Tv On Blu-Ray,Movies &amp; TV,Blu-ray,Action &amp; Adventure,Movies &amp; Music,Holiday Shop</td>\n",
       "      <td>SONY CORP</td>\n",
       "      <td>The Resident Evil Collection 5 Discs (blu-Ray)</td>\n",
       "      <td>2017-04-16T00:00:00.000Z</td>\n",
       "      <td>NaN</td>\n",
       "      <td>True</td>\n",
       "      <td>5</td>\n",
       "      <td>NaN</td>\n",
       "      <td>NaN</td>\n",
       "      <td>markm</td>\n",
       "      <td>0</td>\n",
       "      <td>Great deal, plus bonus!. Bought all five of the first resident evil movies for $15!! And it came with a free ticket to see number seven!</td>\n",
       "    </tr>\n",
       "    <tr>\n",
       "      <th>5358</th>\n",
       "      <td>AVpf0eb2LJeJML43EVSt</td>\n",
       "      <td>Sony Pictures</td>\n",
       "      <td>Movies, Music &amp; Books,Ways To Shop Entertainment,Movie &amp; Tv Box Sets,Movies,Horror,Movies &amp; TV Shows,All Horror,Movies &amp; Tv On Blu-Ray,Movies &amp; TV,Blu-ray,Action &amp; Adventure,Movies &amp; Music,Holiday Shop</td>\n",
       "      <td>SONY CORP</td>\n",
       "      <td>The Resident Evil Collection 5 Discs (blu-Ray)</td>\n",
       "      <td>2017-08-17T00:00:00.000Z</td>\n",
       "      <td>NaN</td>\n",
       "      <td>True</td>\n",
       "      <td>5</td>\n",
       "      <td>NaN</td>\n",
       "      <td>NaN</td>\n",
       "      <td>markm</td>\n",
       "      <td>0</td>\n",
       "      <td>Best blu ray deal ever!. Al five of the first resident evil movies for less than $20! Does not include the last movie, but a great deal overall</td>\n",
       "    </tr>\n",
       "  </tbody>\n",
       "</table>\n",
       "</div>"
      ],
      "text/plain": [
       "                        id          brand  \\\n",
       "5250  AVpf0eb2LJeJML43EVSt  Sony Pictures   \n",
       "5358  AVpf0eb2LJeJML43EVSt  Sony Pictures   \n",
       "\n",
       "                                                                                                                                                                                                     categories  \\\n",
       "5250  Movies, Music & Books,Ways To Shop Entertainment,Movie & Tv Box Sets,Movies,Horror,Movies & TV Shows,All Horror,Movies & Tv On Blu-Ray,Movies & TV,Blu-ray,Action & Adventure,Movies & Music,Holiday Shop   \n",
       "5358  Movies, Music & Books,Ways To Shop Entertainment,Movie & Tv Box Sets,Movies,Horror,Movies & TV Shows,All Horror,Movies & Tv On Blu-Ray,Movies & TV,Blu-ray,Action & Adventure,Movies & Music,Holiday Shop   \n",
       "\n",
       "     manufacturer                                            name  \\\n",
       "5250  SONY CORP    The Resident Evil Collection 5 Discs (blu-Ray)   \n",
       "5358  SONY CORP    The Resident Evil Collection 5 Discs (blu-Ray)   \n",
       "\n",
       "                  reviews_date reviews_didPurchase reviews_doRecommend  \\\n",
       "5250  2017-04-16T00:00:00.000Z  NaN                 True                 \n",
       "5358  2017-08-17T00:00:00.000Z  NaN                 True                 \n",
       "\n",
       "      reviews_rating reviews_userCity reviews_userProvince reviews_username  \\\n",
       "5250  5               NaN              NaN                  markm             \n",
       "5358  5               NaN              NaN                  markm             \n",
       "\n",
       "      user_sentiment  \\\n",
       "5250  0                \n",
       "5358  0                \n",
       "\n",
       "                                                                                                                                         reviews_text  \n",
       "5250  Great deal, plus bonus!. Bought all five of the first resident evil movies for $15!! And it came with a free ticket to see number seven!         \n",
       "5358  Best blu ray deal ever!. Al five of the first resident evil movies for less than $20! Does not include the last movie, but a great deal overall  "
      ]
     },
     "execution_count": 33,
     "metadata": {},
     "output_type": "execute_result"
    }
   ],
   "source": [
    "# Investigate one of the duplicates\n",
    "ratings_df[\n",
    "  (ratings_df.name == 'The Resident Evil Collection 5 Discs (blu-Ray)') & \n",
    "  (ratings_df.reviews_username == 'markm')\n",
    "]"
   ]
  },
  {
   "cell_type": "code",
   "execution_count": 34,
   "metadata": {
    "colab": {
     "base_uri": "https://localhost:8080/"
    },
    "id": "eoZM3Iid5c2Z",
    "outputId": "669a7d46-c97f-48db-b595-81decb3e0df3"
   },
   "outputs": [
    {
     "data": {
      "text/plain": [
       "(30000, 14)"
      ]
     },
     "execution_count": 34,
     "metadata": {},
     "output_type": "execute_result"
    }
   ],
   "source": [
    "ratings_df.shape"
   ]
  },
  {
   "cell_type": "code",
   "execution_count": 35,
   "metadata": {
    "colab": {
     "base_uri": "https://localhost:8080/",
     "height": 1000
    },
    "id": "y7SYhSBR5AvY",
    "outputId": "77fb26cd-18cb-4050-da91-4d62c0e9b98b"
   },
   "outputs": [
    {
     "data": {
      "text/html": [
       "<div>\n",
       "<style scoped>\n",
       "    .dataframe tbody tr th:only-of-type {\n",
       "        vertical-align: middle;\n",
       "    }\n",
       "\n",
       "    .dataframe tbody tr th {\n",
       "        vertical-align: top;\n",
       "    }\n",
       "\n",
       "    .dataframe thead th {\n",
       "        text-align: right;\n",
       "    }\n",
       "</style>\n",
       "<table border=\"1\" class=\"dataframe\">\n",
       "  <thead>\n",
       "    <tr style=\"text-align: right;\">\n",
       "      <th></th>\n",
       "      <th>id</th>\n",
       "      <th>brand</th>\n",
       "      <th>categories</th>\n",
       "      <th>manufacturer</th>\n",
       "      <th>name</th>\n",
       "      <th>reviews_date</th>\n",
       "      <th>reviews_didPurchase</th>\n",
       "      <th>reviews_doRecommend</th>\n",
       "      <th>reviews_rating</th>\n",
       "      <th>reviews_userCity</th>\n",
       "      <th>reviews_userProvince</th>\n",
       "      <th>reviews_username</th>\n",
       "      <th>user_sentiment</th>\n",
       "      <th>reviews_text</th>\n",
       "    </tr>\n",
       "  </thead>\n",
       "  <tbody>\n",
       "    <tr>\n",
       "      <th>3471</th>\n",
       "      <td>AVpe625_ilAPnD_xQ4SP</td>\n",
       "      <td>Nearly Natural</td>\n",
       "      <td>Home,Home Decor,Home Accents,Artificial Flowers &amp; Plants,Silk Flowers,Decor,Artificial Plants and Flowers,Artificial Flowers,Indoor Plants,Floral Arrangements,Decorative Accessories,Silk Plants</td>\n",
       "      <td>Nearly Natural</td>\n",
       "      <td>Sunflower Swag With Metal Frame - Nearly Natural</td>\n",
       "      <td>2018-01-10T19:56:37.000Z</td>\n",
       "      <td>NaN</td>\n",
       "      <td>NaN</td>\n",
       "      <td>2</td>\n",
       "      <td>NaN</td>\n",
       "      <td>NaN</td>\n",
       "      <td>bostonshopper</td>\n",
       "      <td>0</td>\n",
       "      <td>Sunflower Swag. I was disappointed when I received this swag I ordered online and will definitely be returning it. First, the color of the sunflowers is more like a red/orange than yellow. Second, the petals on the sunflowers themselves were all bent. I thought they could easily be bent back in shape, but that isn't the case. I could iron them down, but I won't waste my time. For the price, it's not worth the purchase in my opinion. Sorry, this swag missed the mark for me.</td>\n",
       "    </tr>\n",
       "    <tr>\n",
       "      <th>26763</th>\n",
       "      <td>AVpfPx6V1cnluZ0-hA5y</td>\n",
       "      <td>Ben &amp; Jerry's</td>\n",
       "      <td>Food,Packaged Foods,Dairy &amp; Dairy Substitutes,Desserts,Ice Cream &amp; Frozen Yogurt,Food &amp; Beverage,Frozen Foods,Ice Cream,Ice Cream &amp; Novelties,#18430 in,#1322 in,#306 in</td>\n",
       "      <td>Unilever</td>\n",
       "      <td>Ben &amp; Jerry's Coffee, Coffee Buzzbuzzbuzz! Ice Cream, Pint</td>\n",
       "      <td>2018-01-06T23:44:55.000Z</td>\n",
       "      <td>NaN</td>\n",
       "      <td>True</td>\n",
       "      <td>5</td>\n",
       "      <td>NaN</td>\n",
       "      <td>NaN</td>\n",
       "      <td>coffee dreams</td>\n",
       "      <td>1</td>\n",
       "      <td>Really, No Words Can Describe The Awesomeness. Best coffee ice cream in the world, hands down!! Never tasted better.</td>\n",
       "    </tr>\n",
       "    <tr>\n",
       "      <th>1228</th>\n",
       "      <td>AV1YneDPglJLPUi8IJyQ</td>\n",
       "      <td>Finish</td>\n",
       "      <td>Household Essentials,Cleaning Supplies,Dish Detergents,Ways To Shop,Household Essentials Subscriptions,Kitchen,Dishwasher Detergent,Natural Cleaning,Glass Cleaners,Dish Detergent</td>\n",
       "      <td>Reckitt Benckiser</td>\n",
       "      <td>Finish Quantum Dishwasher Detergent, Lemon Sparkle Scent, 45 Count</td>\n",
       "      <td>2018-01-06T14:17:53.000Z</td>\n",
       "      <td>NaN</td>\n",
       "      <td>NaN</td>\n",
       "      <td>4</td>\n",
       "      <td>NaN</td>\n",
       "      <td>NaN</td>\n",
       "      <td>emmy1977</td>\n",
       "      <td>1</td>\n",
       "      <td>Better Than Cheaper Finish. The cheaper Finish was leaving white residue on our dishes. This one is better and our dishes don't have as much white residue now.</td>\n",
       "    </tr>\n",
       "    <tr>\n",
       "      <th>16773</th>\n",
       "      <td>AVpf99c6LJeJML43Gu3K</td>\n",
       "      <td>Warner Bros.</td>\n",
       "      <td>Movies, Music &amp; Books,Movies,Romance,Drama,Movies &amp; TV,Urban Dramas,Movies &amp; Music,Movies &amp; TV Shows,Classics,Classic Dramas</td>\n",
       "      <td>TIME WARNER</td>\n",
       "      <td>Romantic Drama: Greatest Classic Films Collection 2 Discs</td>\n",
       "      <td>2017-12-26T21:06:40.000Z</td>\n",
       "      <td>NaN</td>\n",
       "      <td>True</td>\n",
       "      <td>5</td>\n",
       "      <td>NaN</td>\n",
       "      <td>NaN</td>\n",
       "      <td>msd</td>\n",
       "      <td>1</td>\n",
       "      <td>Great. Great deal on four movies for the price of one, fast shipping and my mom loved them!</td>\n",
       "    </tr>\n",
       "    <tr>\n",
       "      <th>18549</th>\n",
       "      <td>AVpfJcHuLJeJML433ZrY</td>\n",
       "      <td>Lionsgate Home Entertainment</td>\n",
       "      <td>Movies, Music &amp; Books,Movies,Sci-Fi &amp; Fantasy,Romance,Movies &amp; TV,Blu-ray,Documentary,Drama,Movies &amp; Music,Movies &amp; TV Shows</td>\n",
       "      <td>Lions Gate</td>\n",
       "      <td>Equals (blu-Ray)</td>\n",
       "      <td>2017-12-26T20:18:47.000Z</td>\n",
       "      <td>NaN</td>\n",
       "      <td>True</td>\n",
       "      <td>5</td>\n",
       "      <td>NaN</td>\n",
       "      <td>NaN</td>\n",
       "      <td>cn</td>\n",
       "      <td>0</td>\n",
       "      <td>. My daughter adored the movie!</td>\n",
       "    </tr>\n",
       "  </tbody>\n",
       "</table>\n",
       "</div>"
      ],
      "text/plain": [
       "                         id                         brand  \\\n",
       "3471   AVpe625_ilAPnD_xQ4SP  Nearly Natural                 \n",
       "26763  AVpfPx6V1cnluZ0-hA5y  Ben & Jerry's                  \n",
       "1228   AV1YneDPglJLPUi8IJyQ  Finish                         \n",
       "16773  AVpf99c6LJeJML43Gu3K  Warner Bros.                   \n",
       "18549  AVpfJcHuLJeJML433ZrY  Lionsgate Home Entertainment   \n",
       "\n",
       "                                                                                                                                                                                              categories  \\\n",
       "3471   Home,Home Decor,Home Accents,Artificial Flowers & Plants,Silk Flowers,Decor,Artificial Plants and Flowers,Artificial Flowers,Indoor Plants,Floral Arrangements,Decorative Accessories,Silk Plants   \n",
       "26763  Food,Packaged Foods,Dairy & Dairy Substitutes,Desserts,Ice Cream & Frozen Yogurt,Food & Beverage,Frozen Foods,Ice Cream,Ice Cream & Novelties,#18430 in,#1322 in,#306 in                            \n",
       "1228   Household Essentials,Cleaning Supplies,Dish Detergents,Ways To Shop,Household Essentials Subscriptions,Kitchen,Dishwasher Detergent,Natural Cleaning,Glass Cleaners,Dish Detergent                  \n",
       "16773  Movies, Music & Books,Movies,Romance,Drama,Movies & TV,Urban Dramas,Movies & Music,Movies & TV Shows,Classics,Classic Dramas                                                                        \n",
       "18549  Movies, Music & Books,Movies,Sci-Fi & Fantasy,Romance,Movies & TV,Blu-ray,Documentary,Drama,Movies & Music,Movies & TV Shows                                                                        \n",
       "\n",
       "            manufacturer  \\\n",
       "3471   Nearly Natural      \n",
       "26763  Unilever            \n",
       "1228   Reckitt Benckiser   \n",
       "16773  TIME WARNER         \n",
       "18549  Lions Gate          \n",
       "\n",
       "                                                                     name  \\\n",
       "3471   Sunflower Swag With Metal Frame - Nearly Natural                     \n",
       "26763  Ben & Jerry's Coffee, Coffee Buzzbuzzbuzz! Ice Cream, Pint           \n",
       "1228   Finish Quantum Dishwasher Detergent, Lemon Sparkle Scent, 45 Count   \n",
       "16773  Romantic Drama: Greatest Classic Films Collection 2 Discs            \n",
       "18549  Equals (blu-Ray)                                                     \n",
       "\n",
       "                   reviews_date reviews_didPurchase reviews_doRecommend  \\\n",
       "3471   2018-01-10T19:56:37.000Z  NaN                 NaN                  \n",
       "26763  2018-01-06T23:44:55.000Z  NaN                 True                 \n",
       "1228   2018-01-06T14:17:53.000Z  NaN                 NaN                  \n",
       "16773  2017-12-26T21:06:40.000Z  NaN                 True                 \n",
       "18549  2017-12-26T20:18:47.000Z  NaN                 True                 \n",
       "\n",
       "       reviews_rating reviews_userCity reviews_userProvince reviews_username  \\\n",
       "3471   2               NaN              NaN                  bostonshopper     \n",
       "26763  5               NaN              NaN                  coffee dreams     \n",
       "1228   4               NaN              NaN                  emmy1977          \n",
       "16773  5               NaN              NaN                  msd               \n",
       "18549  5               NaN              NaN                  cn                \n",
       "\n",
       "       user_sentiment  \\\n",
       "3471   0                \n",
       "26763  1                \n",
       "1228   1                \n",
       "16773  1                \n",
       "18549  0                \n",
       "\n",
       "                                                                                                                                                                                                                                                                                                                                                                                                                                                                                        reviews_text  \n",
       "3471   Sunflower Swag. I was disappointed when I received this swag I ordered online and will definitely be returning it. First, the color of the sunflowers is more like a red/orange than yellow. Second, the petals on the sunflowers themselves were all bent. I thought they could easily be bent back in shape, but that isn't the case. I could iron them down, but I won't waste my time. For the price, it's not worth the purchase in my opinion. Sorry, this swag missed the mark for me.  \n",
       "26763  Really, No Words Can Describe The Awesomeness. Best coffee ice cream in the world, hands down!! Never tasted better.                                                                                                                                                                                                                                                                                                                                                                           \n",
       "1228   Better Than Cheaper Finish. The cheaper Finish was leaving white residue on our dishes. This one is better and our dishes don't have as much white residue now.                                                                                                                                                                                                                                                                                                                                \n",
       "16773  Great. Great deal on four movies for the price of one, fast shipping and my mom loved them!                                                                                                                                                                                                                                                                                                                                                                                                    \n",
       "18549  . My daughter adored the movie!                                                                                                                                                                                                                                                                                                                                                                                                                                                                "
      ]
     },
     "execution_count": 35,
     "metadata": {},
     "output_type": "execute_result"
    }
   ],
   "source": [
    "# Sort ratings_df by reviews_date column in descending order.\n",
    "ratings_df = ratings_df.sort_values(by=\"reviews_date\", ascending=False, inplace=False)\n",
    "ratings_df.head(5)"
   ]
  },
  {
   "cell_type": "code",
   "execution_count": 36,
   "metadata": {
    "colab": {
     "base_uri": "https://localhost:8080/",
     "height": 1000
    },
    "id": "ZR-rUzRJ39DP",
    "outputId": "57215b23-5dad-4667-cada-4a42b9f3deb4"
   },
   "outputs": [
    {
     "data": {
      "text/html": [
       "<div>\n",
       "<style scoped>\n",
       "    .dataframe tbody tr th:only-of-type {\n",
       "        vertical-align: middle;\n",
       "    }\n",
       "\n",
       "    .dataframe tbody tr th {\n",
       "        vertical-align: top;\n",
       "    }\n",
       "\n",
       "    .dataframe thead th {\n",
       "        text-align: right;\n",
       "    }\n",
       "</style>\n",
       "<table border=\"1\" class=\"dataframe\">\n",
       "  <thead>\n",
       "    <tr style=\"text-align: right;\">\n",
       "      <th></th>\n",
       "      <th>id</th>\n",
       "      <th>brand</th>\n",
       "      <th>categories</th>\n",
       "      <th>manufacturer</th>\n",
       "      <th>name</th>\n",
       "      <th>reviews_date</th>\n",
       "      <th>reviews_didPurchase</th>\n",
       "      <th>reviews_doRecommend</th>\n",
       "      <th>reviews_rating</th>\n",
       "      <th>reviews_userCity</th>\n",
       "      <th>reviews_userProvince</th>\n",
       "      <th>reviews_username</th>\n",
       "      <th>user_sentiment</th>\n",
       "      <th>reviews_text</th>\n",
       "    </tr>\n",
       "  </thead>\n",
       "  <tbody>\n",
       "    <tr>\n",
       "      <th>3471</th>\n",
       "      <td>AVpe625_ilAPnD_xQ4SP</td>\n",
       "      <td>Nearly Natural</td>\n",
       "      <td>Home,Home Decor,Home Accents,Artificial Flowers &amp; Plants,Silk Flowers,Decor,Artificial Plants and Flowers,Artificial Flowers,Indoor Plants,Floral Arrangements,Decorative Accessories,Silk Plants</td>\n",
       "      <td>Nearly Natural</td>\n",
       "      <td>Sunflower Swag With Metal Frame - Nearly Natural</td>\n",
       "      <td>2018-01-10T19:56:37.000Z</td>\n",
       "      <td>NaN</td>\n",
       "      <td>NaN</td>\n",
       "      <td>2</td>\n",
       "      <td>NaN</td>\n",
       "      <td>NaN</td>\n",
       "      <td>bostonshopper</td>\n",
       "      <td>0</td>\n",
       "      <td>Sunflower Swag. I was disappointed when I received this swag I ordered online and will definitely be returning it. First, the color of the sunflowers is more like a red/orange than yellow. Second, the petals on the sunflowers themselves were all bent. I thought they could easily be bent back in shape, but that isn't the case. I could iron them down, but I won't waste my time. For the price, it's not worth the purchase in my opinion. Sorry, this swag missed the mark for me.</td>\n",
       "    </tr>\n",
       "    <tr>\n",
       "      <th>26763</th>\n",
       "      <td>AVpfPx6V1cnluZ0-hA5y</td>\n",
       "      <td>Ben &amp; Jerry's</td>\n",
       "      <td>Food,Packaged Foods,Dairy &amp; Dairy Substitutes,Desserts,Ice Cream &amp; Frozen Yogurt,Food &amp; Beverage,Frozen Foods,Ice Cream,Ice Cream &amp; Novelties,#18430 in,#1322 in,#306 in</td>\n",
       "      <td>Unilever</td>\n",
       "      <td>Ben &amp; Jerry's Coffee, Coffee Buzzbuzzbuzz! Ice Cream, Pint</td>\n",
       "      <td>2018-01-06T23:44:55.000Z</td>\n",
       "      <td>NaN</td>\n",
       "      <td>True</td>\n",
       "      <td>5</td>\n",
       "      <td>NaN</td>\n",
       "      <td>NaN</td>\n",
       "      <td>coffee dreams</td>\n",
       "      <td>1</td>\n",
       "      <td>Really, No Words Can Describe The Awesomeness. Best coffee ice cream in the world, hands down!! Never tasted better.</td>\n",
       "    </tr>\n",
       "    <tr>\n",
       "      <th>1228</th>\n",
       "      <td>AV1YneDPglJLPUi8IJyQ</td>\n",
       "      <td>Finish</td>\n",
       "      <td>Household Essentials,Cleaning Supplies,Dish Detergents,Ways To Shop,Household Essentials Subscriptions,Kitchen,Dishwasher Detergent,Natural Cleaning,Glass Cleaners,Dish Detergent</td>\n",
       "      <td>Reckitt Benckiser</td>\n",
       "      <td>Finish Quantum Dishwasher Detergent, Lemon Sparkle Scent, 45 Count</td>\n",
       "      <td>2018-01-06T14:17:53.000Z</td>\n",
       "      <td>NaN</td>\n",
       "      <td>NaN</td>\n",
       "      <td>4</td>\n",
       "      <td>NaN</td>\n",
       "      <td>NaN</td>\n",
       "      <td>emmy1977</td>\n",
       "      <td>1</td>\n",
       "      <td>Better Than Cheaper Finish. The cheaper Finish was leaving white residue on our dishes. This one is better and our dishes don't have as much white residue now.</td>\n",
       "    </tr>\n",
       "    <tr>\n",
       "      <th>16773</th>\n",
       "      <td>AVpf99c6LJeJML43Gu3K</td>\n",
       "      <td>Warner Bros.</td>\n",
       "      <td>Movies, Music &amp; Books,Movies,Romance,Drama,Movies &amp; TV,Urban Dramas,Movies &amp; Music,Movies &amp; TV Shows,Classics,Classic Dramas</td>\n",
       "      <td>TIME WARNER</td>\n",
       "      <td>Romantic Drama: Greatest Classic Films Collection 2 Discs</td>\n",
       "      <td>2017-12-26T21:06:40.000Z</td>\n",
       "      <td>NaN</td>\n",
       "      <td>True</td>\n",
       "      <td>5</td>\n",
       "      <td>NaN</td>\n",
       "      <td>NaN</td>\n",
       "      <td>msd</td>\n",
       "      <td>1</td>\n",
       "      <td>Great. Great deal on four movies for the price of one, fast shipping and my mom loved them!</td>\n",
       "    </tr>\n",
       "    <tr>\n",
       "      <th>18549</th>\n",
       "      <td>AVpfJcHuLJeJML433ZrY</td>\n",
       "      <td>Lionsgate Home Entertainment</td>\n",
       "      <td>Movies, Music &amp; Books,Movies,Sci-Fi &amp; Fantasy,Romance,Movies &amp; TV,Blu-ray,Documentary,Drama,Movies &amp; Music,Movies &amp; TV Shows</td>\n",
       "      <td>Lions Gate</td>\n",
       "      <td>Equals (blu-Ray)</td>\n",
       "      <td>2017-12-26T20:18:47.000Z</td>\n",
       "      <td>NaN</td>\n",
       "      <td>True</td>\n",
       "      <td>5</td>\n",
       "      <td>NaN</td>\n",
       "      <td>NaN</td>\n",
       "      <td>cn</td>\n",
       "      <td>0</td>\n",
       "      <td>. My daughter adored the movie!</td>\n",
       "    </tr>\n",
       "  </tbody>\n",
       "</table>\n",
       "</div>"
      ],
      "text/plain": [
       "                         id                         brand  \\\n",
       "3471   AVpe625_ilAPnD_xQ4SP  Nearly Natural                 \n",
       "26763  AVpfPx6V1cnluZ0-hA5y  Ben & Jerry's                  \n",
       "1228   AV1YneDPglJLPUi8IJyQ  Finish                         \n",
       "16773  AVpf99c6LJeJML43Gu3K  Warner Bros.                   \n",
       "18549  AVpfJcHuLJeJML433ZrY  Lionsgate Home Entertainment   \n",
       "\n",
       "                                                                                                                                                                                              categories  \\\n",
       "3471   Home,Home Decor,Home Accents,Artificial Flowers & Plants,Silk Flowers,Decor,Artificial Plants and Flowers,Artificial Flowers,Indoor Plants,Floral Arrangements,Decorative Accessories,Silk Plants   \n",
       "26763  Food,Packaged Foods,Dairy & Dairy Substitutes,Desserts,Ice Cream & Frozen Yogurt,Food & Beverage,Frozen Foods,Ice Cream,Ice Cream & Novelties,#18430 in,#1322 in,#306 in                            \n",
       "1228   Household Essentials,Cleaning Supplies,Dish Detergents,Ways To Shop,Household Essentials Subscriptions,Kitchen,Dishwasher Detergent,Natural Cleaning,Glass Cleaners,Dish Detergent                  \n",
       "16773  Movies, Music & Books,Movies,Romance,Drama,Movies & TV,Urban Dramas,Movies & Music,Movies & TV Shows,Classics,Classic Dramas                                                                        \n",
       "18549  Movies, Music & Books,Movies,Sci-Fi & Fantasy,Romance,Movies & TV,Blu-ray,Documentary,Drama,Movies & Music,Movies & TV Shows                                                                        \n",
       "\n",
       "            manufacturer  \\\n",
       "3471   Nearly Natural      \n",
       "26763  Unilever            \n",
       "1228   Reckitt Benckiser   \n",
       "16773  TIME WARNER         \n",
       "18549  Lions Gate          \n",
       "\n",
       "                                                                     name  \\\n",
       "3471   Sunflower Swag With Metal Frame - Nearly Natural                     \n",
       "26763  Ben & Jerry's Coffee, Coffee Buzzbuzzbuzz! Ice Cream, Pint           \n",
       "1228   Finish Quantum Dishwasher Detergent, Lemon Sparkle Scent, 45 Count   \n",
       "16773  Romantic Drama: Greatest Classic Films Collection 2 Discs            \n",
       "18549  Equals (blu-Ray)                                                     \n",
       "\n",
       "                   reviews_date reviews_didPurchase reviews_doRecommend  \\\n",
       "3471   2018-01-10T19:56:37.000Z  NaN                 NaN                  \n",
       "26763  2018-01-06T23:44:55.000Z  NaN                 True                 \n",
       "1228   2018-01-06T14:17:53.000Z  NaN                 NaN                  \n",
       "16773  2017-12-26T21:06:40.000Z  NaN                 True                 \n",
       "18549  2017-12-26T20:18:47.000Z  NaN                 True                 \n",
       "\n",
       "       reviews_rating reviews_userCity reviews_userProvince reviews_username  \\\n",
       "3471   2               NaN              NaN                  bostonshopper     \n",
       "26763  5               NaN              NaN                  coffee dreams     \n",
       "1228   4               NaN              NaN                  emmy1977          \n",
       "16773  5               NaN              NaN                  msd               \n",
       "18549  5               NaN              NaN                  cn                \n",
       "\n",
       "       user_sentiment  \\\n",
       "3471   0                \n",
       "26763  1                \n",
       "1228   1                \n",
       "16773  1                \n",
       "18549  0                \n",
       "\n",
       "                                                                                                                                                                                                                                                                                                                                                                                                                                                                                        reviews_text  \n",
       "3471   Sunflower Swag. I was disappointed when I received this swag I ordered online and will definitely be returning it. First, the color of the sunflowers is more like a red/orange than yellow. Second, the petals on the sunflowers themselves were all bent. I thought they could easily be bent back in shape, but that isn't the case. I could iron them down, but I won't waste my time. For the price, it's not worth the purchase in my opinion. Sorry, this swag missed the mark for me.  \n",
       "26763  Really, No Words Can Describe The Awesomeness. Best coffee ice cream in the world, hands down!! Never tasted better.                                                                                                                                                                                                                                                                                                                                                                           \n",
       "1228   Better Than Cheaper Finish. The cheaper Finish was leaving white residue on our dishes. This one is better and our dishes don't have as much white residue now.                                                                                                                                                                                                                                                                                                                                \n",
       "16773  Great. Great deal on four movies for the price of one, fast shipping and my mom loved them!                                                                                                                                                                                                                                                                                                                                                                                                    \n",
       "18549  . My daughter adored the movie!                                                                                                                                                                                                                                                                                                                                                                                                                                                                "
      ]
     },
     "execution_count": 36,
     "metadata": {},
     "output_type": "execute_result"
    }
   ],
   "source": [
    "after_drop_df = ratings_df.drop_duplicates(subset=['name','reviews_username'], keep=\"first\")\n",
    "after_drop_df.head()"
   ]
  },
  {
   "cell_type": "code",
   "execution_count": 37,
   "metadata": {
    "colab": {
     "base_uri": "https://localhost:8080/"
    },
    "id": "m_jnPONf5THJ",
    "outputId": "03b50837-3eac-4aee-b6e0-e63f28cb2058"
   },
   "outputs": [
    {
     "name": "stdout",
     "output_type": "stream",
     "text": [
      "(30000, 14)\n",
      "(27605, 14)\n"
     ]
    }
   ],
   "source": [
    "print(ratings_df.shape)\n",
    "print(after_drop_df.shape)"
   ]
  },
  {
   "cell_type": "code",
   "execution_count": 38,
   "metadata": {
    "colab": {
     "base_uri": "https://localhost:8080/",
     "height": 274
    },
    "id": "yW-L1X7R39La",
    "outputId": "612d7fb9-8b96-4def-c490-7df53b604776"
   },
   "outputs": [
    {
     "data": {
      "text/html": [
       "<div>\n",
       "<style scoped>\n",
       "    .dataframe tbody tr th:only-of-type {\n",
       "        vertical-align: middle;\n",
       "    }\n",
       "\n",
       "    .dataframe tbody tr th {\n",
       "        vertical-align: top;\n",
       "    }\n",
       "\n",
       "    .dataframe thead th {\n",
       "        text-align: right;\n",
       "    }\n",
       "</style>\n",
       "<table border=\"1\" class=\"dataframe\">\n",
       "  <thead>\n",
       "    <tr style=\"text-align: right;\">\n",
       "      <th></th>\n",
       "      <th>id</th>\n",
       "      <th>brand</th>\n",
       "      <th>categories</th>\n",
       "      <th>manufacturer</th>\n",
       "      <th>name</th>\n",
       "      <th>reviews_date</th>\n",
       "      <th>reviews_didPurchase</th>\n",
       "      <th>reviews_doRecommend</th>\n",
       "      <th>reviews_rating</th>\n",
       "      <th>reviews_userCity</th>\n",
       "      <th>reviews_userProvince</th>\n",
       "      <th>reviews_username</th>\n",
       "      <th>user_sentiment</th>\n",
       "      <th>reviews_text</th>\n",
       "    </tr>\n",
       "  </thead>\n",
       "  <tbody>\n",
       "    <tr>\n",
       "      <th>5358</th>\n",
       "      <td>AVpf0eb2LJeJML43EVSt</td>\n",
       "      <td>Sony Pictures</td>\n",
       "      <td>Movies, Music &amp; Books,Ways To Shop Entertainment,Movie &amp; Tv Box Sets,Movies,Horror,Movies &amp; TV Shows,All Horror,Movies &amp; Tv On Blu-Ray,Movies &amp; TV,Blu-ray,Action &amp; Adventure,Movies &amp; Music,Holiday Shop</td>\n",
       "      <td>SONY CORP</td>\n",
       "      <td>The Resident Evil Collection 5 Discs (blu-Ray)</td>\n",
       "      <td>2017-08-17T00:00:00.000Z</td>\n",
       "      <td>NaN</td>\n",
       "      <td>True</td>\n",
       "      <td>5</td>\n",
       "      <td>NaN</td>\n",
       "      <td>NaN</td>\n",
       "      <td>markm</td>\n",
       "      <td>0</td>\n",
       "      <td>Best blu ray deal ever!. Al five of the first resident evil movies for less than $20! Does not include the last movie, but a great deal overall</td>\n",
       "    </tr>\n",
       "  </tbody>\n",
       "</table>\n",
       "</div>"
      ],
      "text/plain": [
       "                        id          brand  \\\n",
       "5358  AVpf0eb2LJeJML43EVSt  Sony Pictures   \n",
       "\n",
       "                                                                                                                                                                                                     categories  \\\n",
       "5358  Movies, Music & Books,Ways To Shop Entertainment,Movie & Tv Box Sets,Movies,Horror,Movies & TV Shows,All Horror,Movies & Tv On Blu-Ray,Movies & TV,Blu-ray,Action & Adventure,Movies & Music,Holiday Shop   \n",
       "\n",
       "     manufacturer                                            name  \\\n",
       "5358  SONY CORP    The Resident Evil Collection 5 Discs (blu-Ray)   \n",
       "\n",
       "                  reviews_date reviews_didPurchase reviews_doRecommend  \\\n",
       "5358  2017-08-17T00:00:00.000Z  NaN                 True                 \n",
       "\n",
       "      reviews_rating reviews_userCity reviews_userProvince reviews_username  \\\n",
       "5358  5               NaN              NaN                  markm             \n",
       "\n",
       "      user_sentiment  \\\n",
       "5358  0                \n",
       "\n",
       "                                                                                                                                         reviews_text  \n",
       "5358  Best blu ray deal ever!. Al five of the first resident evil movies for less than $20! Does not include the last movie, but a great deal overall  "
      ]
     },
     "execution_count": 38,
     "metadata": {},
     "output_type": "execute_result"
    }
   ],
   "source": [
    "# verify duplicate is dropped\n",
    "after_drop_df[\n",
    "  (after_drop_df.name == 'The Resident Evil Collection 5 Discs (blu-Ray)') & \n",
    "  (after_drop_df.reviews_username == 'markm')\n",
    "]"
   ]
  },
  {
   "cell_type": "code",
   "execution_count": 39,
   "metadata": {
    "colab": {
     "base_uri": "https://localhost:8080/"
    },
    "id": "5N7ALAAX6a2U",
    "outputId": "69e56613-6b65-458d-929d-937e6089196d"
   },
   "outputs": [
    {
     "data": {
      "text/plain": [
       "(27605, 14)"
      ]
     },
     "execution_count": 39,
     "metadata": {},
     "output_type": "execute_result"
    }
   ],
   "source": [
    "ratings_df.drop_duplicates(subset=['name','reviews_username'], keep=\"first\", inplace=True)\n",
    "ratings_df.shape"
   ]
  },
  {
   "cell_type": "code",
   "execution_count": null,
   "metadata": {
    "id": "AxURFOg33yId"
   },
   "outputs": [],
   "source": []
  },
  {
   "cell_type": "markdown",
   "metadata": {
    "id": "jdBAP8Jm6nNz"
   },
   "source": [
    "### **Next Step [TBD]**"
   ]
  },
  {
   "cell_type": "code",
   "execution_count": null,
   "metadata": {
    "id": "2DuCf0uF3yxB"
   },
   "outputs": [],
   "source": []
  },
  {
   "cell_type": "code",
   "execution_count": null,
   "metadata": {
    "id": "pBneYWD_Rh8O"
   },
   "outputs": [],
   "source": []
  },
  {
   "cell_type": "code",
   "execution_count": null,
   "metadata": {
    "id": "k8w09bjJRiUV"
   },
   "outputs": [],
   "source": []
  },
  {
   "cell_type": "code",
   "execution_count": null,
   "metadata": {
    "id": "NVjGSVSA3y3h"
   },
   "outputs": [],
   "source": []
  },
  {
   "cell_type": "markdown",
   "metadata": {
    "id": "zUUuMSj3QXAa"
   },
   "source": [
    "## **Prepare data for Modeling**"
   ]
  },
  {
   "cell_type": "markdown",
   "metadata": {
    "id": "HHoNQmKPwZ30"
   },
   "source": [
    "#### **Import & Helper functions**"
   ]
  },
  {
   "cell_type": "code",
   "execution_count": 40,
   "metadata": {
    "colab": {
     "base_uri": "https://localhost:8080/"
    },
    "id": "tGfJ8d4jQxpX",
    "outputId": "6c1a04cf-ce47-4b61-9e58-0240edf79643"
   },
   "outputs": [
    {
     "name": "stderr",
     "output_type": "stream",
     "text": [
      "[nltk_data] Downloading package punkt to /Users/aman/nltk_data...\n",
      "[nltk_data]   Package punkt is already up-to-date!\n",
      "[nltk_data] Downloading package stopwords to /Users/aman/nltk_data...\n",
      "[nltk_data]   Package stopwords is already up-to-date!\n",
      "[nltk_data] Downloading package wordnet to /Users/aman/nltk_data...\n",
      "[nltk_data]   Package wordnet is already up-to-date!\n"
     ]
    },
    {
     "data": {
      "text/plain": [
       "True"
      ]
     },
     "execution_count": 40,
     "metadata": {},
     "output_type": "execute_result"
    }
   ],
   "source": [
    "import string\n",
    "import nltk\n",
    "from nltk.tokenize import word_tokenize\n",
    "from nltk.corpus import stopwords\n",
    "from nltk.stem import WordNetLemmatizer\n",
    "\n",
    "nltk.download('punkt')\n",
    "nltk.download('stopwords')\n",
    "nltk.download('wordnet')"
   ]
  },
  {
   "cell_type": "code",
   "execution_count": 41,
   "metadata": {
    "id": "mmWaFaUaQxpY"
   },
   "outputs": [],
   "source": [
    "# Create a lemmatizer\n",
    "lemmatizer = WordNetLemmatizer()"
   ]
  },
  {
   "cell_type": "code",
   "execution_count": 42,
   "metadata": {
    "id": "8by3peu_QxpY"
   },
   "outputs": [],
   "source": [
    "def document_preprocess(document):\n",
    "  # convert to lowercase \n",
    "  document = document.lower()\n",
    "\n",
    "  # tokenize into words\n",
    "  words = word_tokenize(document)\n",
    "\n",
    "  # replace \".\" with \". \". Add space after drop so that when puntuations are removed. 2 words are not grouped together.\n",
    "  # TODO\n",
    "\n",
    "  # replace puntuations with space\n",
    "  for i in range (0, len(words)):\n",
    "    word = words[i]\n",
    "    words[i] = \"\".join(char if char not in set(string.punctuation) else \" \" for char in word)\n",
    "\n",
    "  # remove stop words\n",
    "  words = [word for word in words if word not in stopwords.words(\"english\")]\n",
    "\n",
    "  # lemmatize \n",
    "  words = [lemmatizer.lemmatize(word) for word in words]\n",
    "\n",
    "  document = \" \".join(words)\n",
    "\n",
    "  return document"
   ]
  },
  {
   "cell_type": "code",
   "execution_count": 43,
   "metadata": {
    "colab": {
     "base_uri": "https://localhost:8080/"
    },
    "id": "XpPA_oJvQxpY",
    "outputId": "a4923e11-4095-43b0-c470-e4217d93cd15"
   },
   "outputs": [
    {
     "name": "stdout",
     "output_type": "stream",
     "text": [
      "best blu ray deal ever    al five first\n"
     ]
    }
   ],
   "source": [
    "print(document_preprocess(\"Best blu ray deal ever!.Al five of the first\"))"
   ]
  },
  {
   "cell_type": "code",
   "execution_count": 44,
   "metadata": {
    "colab": {
     "base_uri": "https://localhost:8080/"
    },
    "id": "whmtwGawQtVP",
    "outputId": "f8c4ca39-7d7f-4161-f797-67559c6196b0"
   },
   "outputs": [
    {
     "name": "stdout",
     "output_type": "stream",
     "text": [
      "really   word describe awesomeness best coffee ice cream world   hand     never tasted better  \n"
     ]
    }
   ],
   "source": [
    "print(document_preprocess(\"Really, No Words Can Describe The Awesomeness.Best coffee ice cream in the world, hands down!! Never tasted better.\"))"
   ]
  },
  {
   "cell_type": "code",
   "execution_count": 45,
   "metadata": {
    "colab": {
     "base_uri": "https://localhost:8080/"
    },
    "id": "TS5Pyw52Tu4f",
    "outputId": "f9280782-06ea-4c6e-916c-7d6ae4b87f8c"
   },
   "outputs": [
    {
     "name": "stdout",
     "output_type": "stream",
     "text": [
      "really   word describe awesomeness best coffee ice cream world   hand     never tasted better  \n"
     ]
    }
   ],
   "source": [
    "print(document_preprocess(\"Really, No Words Can Describe The Awesomeness.Best coffee ice cream in the world, hands down!! Never tasted better.\"))"
   ]
  },
  {
   "cell_type": "code",
   "execution_count": 46,
   "metadata": {
    "id": "rpA6ilfO0qhH"
   },
   "outputs": [],
   "source": [
    "def save_pickle_file(model, filename):\n",
    "  pickle_filepath = f\"{base_dir_path}/{filename}\"\n",
    "  pickle.dump(model, open(pickle_filepath, 'wb'))\n",
    "\n",
    "def print_model_mertics(actual, predicted):\n",
    "    display_confusion_matrix(actual, predicted)\n",
    "    plt.show()\n",
    "    metrics_df = generate_metrics_df(actual, predicted)\n",
    "    return metrics_df\n",
    "\n",
    "def display_confusion_matrix(actual, predicted):\n",
    "    confusion = confusion_matrix(actual, predicted)\n",
    "    group_names = [\"True Neg\",\"False Pos\",\"False Neg\",\"True Pos\"]\n",
    "    group_counts = [\"{0:0.0f}\".format(value) for value in confusion.flatten()]\n",
    "    group_percentages = [\"{0:.2%}\".format(value) for value in confusion.flatten()/np.sum(confusion)]\n",
    "    labels = [f\"{v1}\\n{v2}\\n{v3}\" for v1, v2, v3 in zip(group_names,group_counts,group_percentages)]\n",
    "    labels = np.asarray(labels).reshape(2,2)\n",
    "    sns.heatmap(confusion, annot=labels, fmt=\"\", cmap='Blues')\n",
    "\n",
    "def generate_metrics_df(actual, predicted):\n",
    "    confusion = confusion_matrix(actual, predicted)\n",
    "    TP = confusion[1,1] # true positive \n",
    "    TN = confusion[0,0] # true negatives\n",
    "    FP = confusion[0,1] # false positives\n",
    "    FN = confusion[1,0] # false negatives\n",
    "\n",
    "    acc = metrics.accuracy_score(actual, predicted)\n",
    "    recall = metrics.recall_score(actual, predicted)\n",
    "    sensitivity = recall\n",
    "    specificity = TP / float(TP+FN)\n",
    "    precision = metrics.precision_score(actual, predicted)\n",
    "    roc_auc_score = metrics.roc_auc_score(actual, predicted)\n",
    "    f1 = metrics.f1_score(actual, predicted)\n",
    "    df = pd.DataFrame(\n",
    "        [[acc, sensitivity, specificity, recall, precision, roc_auc_score, f1]],\n",
    "        columns = [\"Accuracy\", \"Sensitivity\", \"Specificity\", \"Recall\", \"Precision\", \"ROC AUC\", \"F1\"]\n",
    "    )\n",
    "    print(round(df,2))\n",
    "    return df\n",
    "\n",
    "\n",
    "# Defining the function to plot the ROC curve\n",
    "def draw_roc( actual, probs ):\n",
    "    fpr, tpr, thresholds = metrics.roc_curve( actual, probs, drop_intermediate = False )\n",
    "    auc_score = metrics.roc_auc_score( actual, probs )\n",
    "    plt.figure(figsize=(5, 5))\n",
    "    plt.plot( fpr, tpr, label='ROC curve (area = %0.2f)' % auc_score )\n",
    "    plt.plot([0, 1], [0, 1], 'k--')\n",
    "    plt.xlim([0.0, 1.0])\n",
    "    plt.ylim([0.0, 1.05])\n",
    "    plt.xlabel('False Positive Rate or [1 - True Negative Rate]')\n",
    "    plt.ylabel('True Positive Rate')\n",
    "    plt.title('Receiver operating characteristic example')\n",
    "    plt.legend(loc=\"lower right\")\n",
    "    plt.show()\n",
    "    return None\n",
    "\n",
    "def find_optimal_cutoff(actual, prob):\n",
    "    # Create Cutoff Data from for cutoffs from 0, 0.1, 0.2 .... 0.9\n",
    "    cutoff_df = pd.DataFrame({\n",
    "        'Churn': actual,\n",
    "        'Churn_Prob': prob,\n",
    "    })\n",
    "    cutoff_options = np.arange(0.0, 1.0, 0.1)\n",
    "\n",
    "    for i in cutoff_options:\n",
    "        cutoff_df[i] = cutoff_df['Churn_Prob'].map(lambda x: 1 if x > i else 0)\n",
    "\n",
    "    # Create Cutoff Metrics Datafram to save Accuracy, Sensitivity and Sepecificity for each cutoff point\n",
    "    cutoff_metrics_df = pd.DataFrame(columns = ['Prob', 'Accuracy', 'Sensitivity', 'Specificity'])\n",
    "    \n",
    "    for prob in cutoff_options:\n",
    "        actual = cutoff_df['Churn']\n",
    "        predicted = cutoff_df[prob]\n",
    "\n",
    "        confusion = confusion_matrix(actual, predicted)\n",
    "        accuracy = metrics.accuracy_score(actual, predicted)\n",
    "        sensitivity = metrics.recall_score(actual, predicted)\n",
    "        specificity = confusion[0, 0] / (confusion[0, 0] + confusion[0, 1])\n",
    "\n",
    "        cutoff_metrics_df.loc[prob] = [prob, accuracy, sensitivity, specificity]\n",
    "    \n",
    "    print(cutoff_metrics_df)\n",
    "    \n",
    "    # Plot Graph\n",
    "    cutoff_metrics_df.plot.line(x='Prob', y=['Accuracy', 'Sensitivity', 'Specificity'])\n",
    "    plt.vlines(x=0.5, ymax=1, ymin=0, colors=\"r\", linestyles=\"--\")\n",
    "    plt.show()"
   ]
  },
  {
   "cell_type": "markdown",
   "metadata": {
    "id": "OxzTSHJJRtzP"
   },
   "source": [
    "#### **Create sentiment_df for sentiment analysis**"
   ]
  },
  {
   "cell_type": "code",
   "execution_count": 47,
   "metadata": {
    "colab": {
     "base_uri": "https://localhost:8080/"
    },
    "id": "SAlD77wERfsQ",
    "outputId": "99e5944d-0d6d-423a-f744-fbd92e85793d"
   },
   "outputs": [
    {
     "data": {
      "text/plain": [
       "Index(['id', 'brand', 'categories', 'manufacturer', 'name', 'reviews_date',\n",
       "       'reviews_didPurchase', 'reviews_doRecommend', 'reviews_rating',\n",
       "       'reviews_userCity', 'reviews_userProvince', 'reviews_username',\n",
       "       'user_sentiment', 'reviews_text'],\n",
       "      dtype='object')"
      ]
     },
     "execution_count": 47,
     "metadata": {},
     "output_type": "execute_result"
    }
   ],
   "source": [
    "ratings_df.columns"
   ]
  },
  {
   "cell_type": "code",
   "execution_count": 48,
   "metadata": {
    "colab": {
     "base_uri": "https://localhost:8080/",
     "height": 241
    },
    "id": "Ih-X3uuXRfsY",
    "outputId": "1ae7a16a-d991-482c-a898-aed92a79346a"
   },
   "outputs": [
    {
     "data": {
      "text/html": [
       "<div>\n",
       "<style scoped>\n",
       "    .dataframe tbody tr th:only-of-type {\n",
       "        vertical-align: middle;\n",
       "    }\n",
       "\n",
       "    .dataframe tbody tr th {\n",
       "        vertical-align: top;\n",
       "    }\n",
       "\n",
       "    .dataframe thead th {\n",
       "        text-align: right;\n",
       "    }\n",
       "</style>\n",
       "<table border=\"1\" class=\"dataframe\">\n",
       "  <thead>\n",
       "    <tr style=\"text-align: right;\">\n",
       "      <th></th>\n",
       "      <th>user_sentiment</th>\n",
       "      <th>reviews_text</th>\n",
       "    </tr>\n",
       "  </thead>\n",
       "  <tbody>\n",
       "    <tr>\n",
       "      <th>3471</th>\n",
       "      <td>0</td>\n",
       "      <td>Sunflower Swag. I was disappointed when I received this swag I ordered online and will definitely be returning it. First, the color of the sunflowers is more like a red/orange than yellow. Second, the petals on the sunflowers themselves were all bent. I thought they could easily be bent back in shape, but that isn't the case. I could iron them down, but I won't waste my time. For the price, it's not worth the purchase in my opinion. Sorry, this swag missed the mark for me.</td>\n",
       "    </tr>\n",
       "    <tr>\n",
       "      <th>26763</th>\n",
       "      <td>1</td>\n",
       "      <td>Really, No Words Can Describe The Awesomeness. Best coffee ice cream in the world, hands down!! Never tasted better.</td>\n",
       "    </tr>\n",
       "    <tr>\n",
       "      <th>1228</th>\n",
       "      <td>1</td>\n",
       "      <td>Better Than Cheaper Finish. The cheaper Finish was leaving white residue on our dishes. This one is better and our dishes don't have as much white residue now.</td>\n",
       "    </tr>\n",
       "    <tr>\n",
       "      <th>16773</th>\n",
       "      <td>1</td>\n",
       "      <td>Great. Great deal on four movies for the price of one, fast shipping and my mom loved them!</td>\n",
       "    </tr>\n",
       "    <tr>\n",
       "      <th>18549</th>\n",
       "      <td>0</td>\n",
       "      <td>. My daughter adored the movie!</td>\n",
       "    </tr>\n",
       "  </tbody>\n",
       "</table>\n",
       "</div>"
      ],
      "text/plain": [
       "       user_sentiment  \\\n",
       "3471   0                \n",
       "26763  1                \n",
       "1228   1                \n",
       "16773  1                \n",
       "18549  0                \n",
       "\n",
       "                                                                                                                                                                                                                                                                                                                                                                                                                                                                                        reviews_text  \n",
       "3471   Sunflower Swag. I was disappointed when I received this swag I ordered online and will definitely be returning it. First, the color of the sunflowers is more like a red/orange than yellow. Second, the petals on the sunflowers themselves were all bent. I thought they could easily be bent back in shape, but that isn't the case. I could iron them down, but I won't waste my time. For the price, it's not worth the purchase in my opinion. Sorry, this swag missed the mark for me.  \n",
       "26763  Really, No Words Can Describe The Awesomeness. Best coffee ice cream in the world, hands down!! Never tasted better.                                                                                                                                                                                                                                                                                                                                                                           \n",
       "1228   Better Than Cheaper Finish. The cheaper Finish was leaving white residue on our dishes. This one is better and our dishes don't have as much white residue now.                                                                                                                                                                                                                                                                                                                                \n",
       "16773  Great. Great deal on four movies for the price of one, fast shipping and my mom loved them!                                                                                                                                                                                                                                                                                                                                                                                                    \n",
       "18549  . My daughter adored the movie!                                                                                                                                                                                                                                                                                                                                                                                                                                                                "
      ]
     },
     "execution_count": 48,
     "metadata": {},
     "output_type": "execute_result"
    }
   ],
   "source": [
    "sentiment_df = ratings_df[['user_sentiment', 'reviews_text']]\n",
    "sentiment_df.head()"
   ]
  },
  {
   "cell_type": "code",
   "execution_count": null,
   "metadata": {
    "colab": {
     "base_uri": "https://localhost:8080/",
     "height": 414
    },
    "id": "zm0oSEJlQtdL",
    "outputId": "e3fc63ad-83a2-4cca-8dd1-b5902f300f10"
   },
   "outputs": [],
   "source": [
    "# Apply Preprocess function of every review.\n",
    "# ETA: ~2.5 mins\n",
    "sentiment_df['preprocessed_review'] = sentiment_df.reviews_text.apply(document_preprocess)\n",
    "sentiment_df.head()"
   ]
  },
  {
   "cell_type": "code",
   "execution_count": null,
   "metadata": {
    "colab": {
     "base_uri": "https://localhost:8080/"
    },
    "id": "aeqPH2sFQtj6",
    "outputId": "3280ec41-ddf0-4377-ebdc-a4e70f3f94cd"
   },
   "outputs": [],
   "source": [
    "preprocessed_reviews = sentiment_df['preprocessed_review']\n",
    "\n",
    "# creating a bag-of-words model\n",
    "all_words = []\n",
    "for review in preprocessed_reviews:\n",
    "  words = word_tokenize(review)\n",
    "  for word in words:\n",
    "    all_words.append(word)\n",
    "\n",
    "all_words[:10]"
   ]
  },
  {
   "cell_type": "code",
   "execution_count": null,
   "metadata": {
    "colab": {
     "base_uri": "https://localhost:8080/"
    },
    "id": "5Q9Yo0P2QtpT",
    "outputId": "de30922f-3feb-4024-cc6f-09e8d97174d0"
   },
   "outputs": [],
   "source": [
    "words_freq_dist = nltk.FreqDist(all_words)\n",
    "words_freq_dist"
   ]
  },
  {
   "cell_type": "code",
   "execution_count": null,
   "metadata": {
    "colab": {
     "base_uri": "https://localhost:8080/",
     "height": 336
    },
    "id": "ZaZrDYz1U-mI",
    "outputId": "5ba28bd6-b8e1-4d54-c429-502e3fc4b184"
   },
   "outputs": [],
   "source": [
    "# Plot top 20 most common words in doc\n",
    "words_freq_dist.plot(20, title=\"Top 20 Words in Corpus\")"
   ]
  },
  {
   "cell_type": "markdown",
   "metadata": {
    "id": "D5rIsG8OYEzL"
   },
   "source": [
    "#### **TF-IDF**"
   ]
  },
  {
   "cell_type": "code",
   "execution_count": null,
   "metadata": {
    "colab": {
     "base_uri": "https://localhost:8080/",
     "height": 256
    },
    "id": "kG8kEP1PUnOG",
    "outputId": "d174515e-7fd7-4346-a6c7-8949705faffe"
   },
   "outputs": [],
   "source": [
    "# Create tfidf dataframe\n",
    "from sklearn.feature_extraction.text import TfidfVectorizer\n",
    "\n",
    "vectorizer = TfidfVectorizer(max_features=4000)\n",
    "tfidf_model = vectorizer.fit_transform(sentiment_df['preprocessed_review'])\n",
    "tfidf_df = pd.DataFrame(tfidf_model.toarray(), columns = vectorizer.get_feature_names())\n",
    "tfidf_df.head(5)"
   ]
  },
  {
   "cell_type": "code",
   "execution_count": null,
   "metadata": {
    "id": "U8HIeoaL1bcn"
   },
   "outputs": [],
   "source": [
    "# Save Vectorizer pickle file\n",
    "vectorizer_pickle_filename = \"tfidf_vectorizer.pickle\"\n",
    "save_pickle_file(vectorizer, vectorizer_pickle_filename)\n",
    "\n",
    "# vectorizer_pickle_filepath = f\"{base_dir_path}/{vectorizer_pickle_filename}\"\n",
    "# pickle.dump(vectorizer, open(vectorizer_pickle_filepath, 'wb'))"
   ]
  },
  {
   "cell_type": "code",
   "execution_count": null,
   "metadata": {
    "colab": {
     "base_uri": "https://localhost:8080/"
    },
    "id": "6xod8mv8Unh2",
    "outputId": "eaa4208b-f78d-48ef-8625-e674e81ba9b3"
   },
   "outputs": [],
   "source": [
    "tfidf_df.shape"
   ]
  },
  {
   "cell_type": "code",
   "execution_count": null,
   "metadata": {
    "colab": {
     "base_uri": "https://localhost:8080/"
    },
    "id": "i67Ad6ur-b9e",
    "outputId": "36d086af-a572-48da-afe3-5a18a0ccc48a"
   },
   "outputs": [],
   "source": [
    "print(sentiment_df.shape)\n",
    "print(sentiment_df.columns)"
   ]
  },
  {
   "cell_type": "code",
   "execution_count": null,
   "metadata": {
    "colab": {
     "base_uri": "https://localhost:8080/"
    },
    "id": "GZGPw_hvUnpS",
    "outputId": "0ab45d8a-feb1-4cd8-d76c-af529693fa49"
   },
   "outputs": [],
   "source": [
    "sentiment_df.user_sentiment.value_counts()"
   ]
  },
  {
   "cell_type": "code",
   "execution_count": null,
   "metadata": {
    "colab": {
     "base_uri": "https://localhost:8080/",
     "height": 300
    },
    "id": "3qjv_nIPUnvL",
    "outputId": "4a5faabe-9384-4d21-8817-842518eddc8a"
   },
   "outputs": [],
   "source": [
    "sentiment_df.describe()"
   ]
  },
  {
   "cell_type": "code",
   "execution_count": null,
   "metadata": {
    "colab": {
     "base_uri": "https://localhost:8080/"
    },
    "id": "W4K-ha_vUn18",
    "outputId": "53c9a57c-7e7d-4076-baa9-32cc9e2e5875"
   },
   "outputs": [],
   "source": [
    "print(tfidf_df.shape)\n",
    "print(tfidf_df.columns)"
   ]
  },
  {
   "cell_type": "code",
   "execution_count": null,
   "metadata": {
    "id": "6dnHmDkpv0rS"
   },
   "outputs": [],
   "source": []
  },
  {
   "cell_type": "markdown",
   "metadata": {
    "id": "AWTOTL9Fwqtq"
   },
   "source": [
    "#### **Handle Class  Imbalance using SMOTE**\n",
    "\n",
    "Ref: https://machinelearningmastery.com/smote-oversampling-for-imbalanced-classification/"
   ]
  },
  {
   "cell_type": "code",
   "execution_count": null,
   "metadata": {
    "colab": {
     "base_uri": "https://localhost:8080/"
    },
    "id": "WRMpr4Y3v01B",
    "outputId": "66314ae2-554c-458f-af6c-64fbe6bcc990"
   },
   "outputs": [],
   "source": [
    "from imblearn.over_sampling import SMOTE\n",
    "from imblearn.under_sampling import RandomUnderSampler\n",
    "from imblearn.pipeline import Pipeline\n",
    "from collections import Counter"
   ]
  },
  {
   "cell_type": "code",
   "execution_count": null,
   "metadata": {
    "id": "OmolvlnGv1Eo"
   },
   "outputs": [],
   "source": [
    "# Setup X (features) and y (label)\n",
    "X = tfidf_df.copy()\n",
    "y = sentiment_df['user_sentiment']"
   ]
  },
  {
   "cell_type": "code",
   "execution_count": null,
   "metadata": {
    "colab": {
     "base_uri": "https://localhost:8080/"
    },
    "id": "gqtfhHLNFCvJ",
    "outputId": "0c9c9804-7a22-4f8a-ba04-a109f8054379"
   },
   "outputs": [],
   "source": [
    "# define pipeline\n",
    "# over = SMOTE(sampling_strategy=0.2, random_state=100)\n",
    "# under = RandomUnderSampler(sampling_strategy=0.5, random_state=100)\n",
    "\n",
    "# first oversample the minority class to have 50 percent the number of examples of the majority class\n",
    "# over = SMOTE(sampling_strategy=0.5, random_state=100)\n",
    "# over = SMOTE(sampling_strategy=0.3, random_state=100)\n",
    "over = SMOTE(random_state=100)\n",
    "# then use random undersampling to reduce the number of examples in the majority class to have 20 percent more than the minority class\n",
    "# under = RandomUnderSampler(sampling_strategy=0.5, random_state=100)\n",
    "# steps = [('o', over), ('u', under)]\n",
    "steps = [('o', over)]\n",
    "pipeline = Pipeline(steps=steps)\n",
    "\n",
    "# print original shape\n",
    "print(f'Original Shape', X.shape, Counter(y))\n",
    "\n",
    "# transform the dataset\n",
    "X, y = pipeline.fit_resample(X, y)\n",
    "\n",
    "# print shape after resampling\n",
    "print(f'Shape after resampling', X.shape, Counter(y))"
   ]
  },
  {
   "cell_type": "code",
   "execution_count": null,
   "metadata": {
    "id": "mlNEgJrUv1Py"
   },
   "outputs": [],
   "source": [
    "# # define pipeline\n",
    "# # over = SMOTE(sampling_strategy=0.2, random_state=100)\n",
    "# # under = RandomUnderSampler(sampling_strategy=0.5, random_state=100)\n",
    "\n",
    "# # first oversample the minority class to have 50 percent the number of examples of the majority class\n",
    "# over = SMOTE(sampling_strategy=0.5, random_state=100)\n",
    "# # then use random undersampling to reduce the number of examples in the majority class to have 20 percent more than the minority class\n",
    "# under = RandomUnderSampler(sampling_strategy=0.5, random_state=100)\n",
    "# steps = [('o', over), ('u', under)]\n",
    "# pipeline = Pipeline(steps=steps)\n",
    "\n",
    "# # print original shape\n",
    "# print(f'Original Shape', X.shape, Counter(y))\n",
    "\n",
    "# # transform the dataset\n",
    "# X, y = pipeline.fit_resample(X, y)\n",
    "\n",
    "# # print shape after resampling\n",
    "# print(f'Shape after resampling', X.shape, Counter(y))"
   ]
  },
  {
   "cell_type": "code",
   "execution_count": null,
   "metadata": {
    "id": "fvs-ksHrv1aC"
   },
   "outputs": [],
   "source": [
    "# Original Shape (27605, 16636) Counter({1: 24552, 0: 3053})\n",
    "# /usr/local/lib/python3.7/dist-packages/sklearn/utils/deprecation.py:87: FutureWarning: Function safe_indexing is deprecated; safe_indexing is deprecated in version 0.22 and will be removed in version 0.24.\n",
    "#   warnings.warn(msg, category=FutureWarning)\n",
    "# /usr/local/lib/python3.7/dist-packages/sklearn/utils/deprecation.py:87: FutureWarning: Function safe_indexing is deprecated; safe_indexing is deprecated in version 0.22 and will be removed in version 0.24.\n",
    "#   warnings.warn(msg, category=FutureWarning)\n",
    "# Shape after resampling (36828, 16636) Counter({1: 24552, 0: 12276})"
   ]
  },
  {
   "cell_type": "code",
   "execution_count": null,
   "metadata": {
    "colab": {
     "base_uri": "https://localhost:8080/",
     "height": 282
    },
    "id": "AJa-FTVrv1lR",
    "outputId": "498be9ae-2439-4e86-af0f-c206045f3eee"
   },
   "outputs": [],
   "source": [
    "from numpy import where\n",
    "# summarize the new class distribution\n",
    "counter = Counter(y)\n",
    "print(counter)\n",
    "# scatter plot of examples by class label\n",
    "for label, _ in counter.items():\n",
    "\trow_ix = where(y == label)[0]\n",
    "\tplt.scatter(X[row_ix, 0], X[row_ix, 1], label=str(label))\n",
    "plt.legend()\n",
    "plt.show()"
   ]
  },
  {
   "cell_type": "markdown",
   "metadata": {
    "id": "ipucF-qu4A5m"
   },
   "source": [
    "## **Divide the data into train and test**"
   ]
  },
  {
   "cell_type": "code",
   "execution_count": null,
   "metadata": {
    "colab": {
     "base_uri": "https://localhost:8080/"
    },
    "id": "QS-oEo2WiaEl",
    "outputId": "83803680-8ce1-4bc1-f864-b16e8cd8563a"
   },
   "outputs": [],
   "source": [
    "# Splitting the data into train and test\n",
    "X_train, X_test, y_train, y_test = train_test_split(X, y, train_size=0.7, test_size=0.3, random_state=100, stratify=y)\n",
    "print(\"Make sure the percentage distribution of churn in train and test is similar\")\n",
    "print(f\"Positive sentiment percentage in train data = {round(100 * y_train.sum()/len(y_train), 2)}%\")\n",
    "print(f\"Positive sentiment percentage in test data = {round(100 * y_test.sum()/len(y_test), 2)}%\")"
   ]
  },
  {
   "cell_type": "code",
   "execution_count": null,
   "metadata": {
    "colab": {
     "base_uri": "https://localhost:8080/"
    },
    "id": "NpQuCpGRjgWI",
    "outputId": "7991ba97-4c8a-478b-aa52-a1c91516f1e9"
   },
   "outputs": [],
   "source": [
    "print(X_train.shape)\n",
    "print(X_test.shape)"
   ]
  },
  {
   "cell_type": "code",
   "execution_count": null,
   "metadata": {
    "id": "kUMgo_o01lyf"
   },
   "outputs": [],
   "source": []
  },
  {
   "cell_type": "markdown",
   "metadata": {
    "id": "nj8Q-gDo_0lc"
   },
   "source": [
    "## **LOGISTIC REGRESSION**"
   ]
  },
  {
   "cell_type": "code",
   "execution_count": null,
   "metadata": {
    "id": "4vVUIgZzAMGX"
   },
   "outputs": [],
   "source": [
    "from sklearn.linear_model import LogisticRegression\n",
    "from sklearn.metrics import classification_report"
   ]
  },
  {
   "cell_type": "code",
   "execution_count": null,
   "metadata": {
    "colab": {
     "base_uri": "https://localhost:8080/"
    },
    "id": "fGbBY-71_7pA",
    "outputId": "623c43c1-ef85-4c98-a632-4c885588292e"
   },
   "outputs": [],
   "source": [
    "lr_model = LogisticRegression(class_weight='balanced', random_state=100).fit(X_train, y_train)"
   ]
  },
  {
   "cell_type": "code",
   "execution_count": null,
   "metadata": {
    "id": "mvjPhBkHAH6p"
   },
   "outputs": [],
   "source": [
    "# Predict Proba\n",
    "y_train_proba = lr_model.predict_proba(X_train)[:, 1]\n",
    "y_test_proba = lr_model.predict_proba(X_test)[:, 1]\n",
    "\n",
    "# create pred df for train and test\n",
    "train_pred_prob_df = pd.DataFrame ({\n",
    "    'Sentiment': y_train.tolist(),\n",
    "    'Sentiment Pred Prob': y_train_proba,\n",
    "})\n",
    "test_pred_prob_df = pd.DataFrame ({\n",
    "    'Sentiment': y_test.tolist(),\n",
    "    'Sentiment Pred Prob': y_test_proba,\n",
    "})"
   ]
  },
  {
   "cell_type": "code",
   "execution_count": null,
   "metadata": {
    "colab": {
     "base_uri": "https://localhost:8080/",
     "height": 206
    },
    "id": "eVC7jmnyBEhn",
    "outputId": "52f59410-3cd6-48a7-ee71-18e6aaf285f5"
   },
   "outputs": [],
   "source": [
    "train_pred_prob_df.head(5)"
   ]
  },
  {
   "cell_type": "code",
   "execution_count": null,
   "metadata": {
    "colab": {
     "base_uri": "https://localhost:8080/"
    },
    "id": "Cz414JmhBHD4",
    "outputId": "3489a775-6dda-4603-e153-11bccf5f5290"
   },
   "outputs": [],
   "source": [
    "test_pred_prob_df.head(5)"
   ]
  },
  {
   "cell_type": "code",
   "execution_count": null,
   "metadata": {
    "colab": {
     "base_uri": "https://localhost:8080/"
    },
    "id": "9x9FuUsjBWoM",
    "outputId": "0e23f3a2-f75a-4b05-fde1-6162b4e4fb79"
   },
   "outputs": [],
   "source": [
    "# lr_model.predict(X_test)\n",
    "lr_model_pred = lr_model.predict(X_test)\n",
    "accuracy = lr_model.score(X_test, y_test)\n",
    "model_performance = classification_report(y_test, lr_model_pred)\n",
    "print ('accuracy of the model: ', accuracy)\n",
    "print('')\n",
    "print(model_performance)"
   ]
  },
  {
   "cell_type": "markdown",
   "metadata": {
    "id": "tb4SFkZQ_7Jy"
   },
   "source": []
  },
  {
   "cell_type": "code",
   "execution_count": null,
   "metadata": {
    "colab": {
     "base_uri": "https://localhost:8080/",
     "height": 350
    },
    "id": "j8UXyeCxSPIy",
    "outputId": "8bed0a8f-8b27-4300-fc62-5dab8aa2f01b"
   },
   "outputs": [],
   "source": [
    "# Draw ROC Curve\n",
    "train_pred_prob_df = pd.DataFrame ({\n",
    "    'Sentiment': y_train.tolist(),\n",
    "    'Sentiment Pred Prob': y_train_proba,\n",
    "})\n",
    "draw_roc(train_pred_prob_df['Sentiment'], train_pred_prob_df['Sentiment Pred Prob'])"
   ]
  },
  {
   "cell_type": "markdown",
   "metadata": {
    "id": "dRpPLN4hS426"
   },
   "source": [
    "ROC Curve has a nice bend towards the top left which is good."
   ]
  },
  {
   "cell_type": "code",
   "execution_count": null,
   "metadata": {
    "colab": {
     "base_uri": "https://localhost:8080/",
     "height": 470
    },
    "id": "R2O4XBFASPZJ",
    "outputId": "ade3e258-68c0-4aba-da88-e056c2ef7803"
   },
   "outputs": [],
   "source": [
    "# Find Optimal Cutoff \n",
    "find_optimal_cutoff(train_pred_prob_df['Sentiment'], train_pred_prob_df['Sentiment Pred Prob'])"
   ]
  },
  {
   "cell_type": "code",
   "execution_count": null,
   "metadata": {
    "id": "DiRu3w7BSPis"
   },
   "outputs": [],
   "source": [
    "optimal_cutoff_point = 0.42"
   ]
  },
  {
   "cell_type": "code",
   "execution_count": null,
   "metadata": {
    "colab": {
     "base_uri": "https://localhost:8080/",
     "height": 206
    },
    "id": "EfLszYiMSPrz",
    "outputId": "61fbbfa1-cb51-4334-d2a5-ab31ec1fc8e0"
   },
   "outputs": [],
   "source": [
    "train_pred_prob_df.head()"
   ]
  },
  {
   "cell_type": "code",
   "execution_count": null,
   "metadata": {
    "colab": {
     "base_uri": "https://localhost:8080/",
     "height": 206
    },
    "id": "eFQ8yqHISP5T",
    "outputId": "c610e252-5b4c-47d8-f7e7-7f3a72ec73c5"
   },
   "outputs": [],
   "source": [
    "# create Prediction on train data\n",
    "train_pred_prob_df['Prediction'] = train_pred_prob_df['Sentiment Pred Prob'].map(lambda x: 1 if x >= optimal_cutoff_point else 0) \n",
    "train_pred_prob_df.head()"
   ]
  },
  {
   "cell_type": "code",
   "execution_count": null,
   "metadata": {
    "colab": {
     "base_uri": "https://localhost:8080/",
     "height": 206
    },
    "id": "wUzKYqnGSP-7",
    "outputId": "dbe69879-9591-425c-d157-3dce27ccd558"
   },
   "outputs": [],
   "source": [
    "# create Prediction on test data\n",
    "test_pred_prob_df['Prediction'] = test_pred_prob_df['Sentiment Pred Prob'].map(lambda x: 1 if x >= optimal_cutoff_point else 0) \n",
    "test_pred_prob_df.head()"
   ]
  },
  {
   "cell_type": "code",
   "execution_count": null,
   "metadata": {
    "colab": {
     "base_uri": "https://localhost:8080/"
    },
    "id": "OhKX9V0vSQKZ",
    "outputId": "d9789ab9-c3a5-4da0-a8e1-b0983c6a4f41"
   },
   "outputs": [],
   "source": [
    "# view metrics on train predictions\n",
    "lr_train_metrics = generate_metrics_df(train_pred_prob_df['Sentiment'], train_pred_prob_df['Prediction'])"
   ]
  },
  {
   "cell_type": "code",
   "execution_count": null,
   "metadata": {
    "colab": {
     "base_uri": "https://localhost:8080/"
    },
    "id": "jxQIoB4-SQUy",
    "outputId": "d78c3a82-10d3-4524-d70f-9ad93c93c22a"
   },
   "outputs": [],
   "source": [
    "# view metrics on test predictions\n",
    "lr_test_metrics = generate_metrics_df(test_pred_prob_df['Sentiment'], test_pred_prob_df['Prediction'])"
   ]
  },
  {
   "cell_type": "code",
   "execution_count": null,
   "metadata": {
    "id": "8AwRJ-ZbUO_H"
   },
   "outputs": [],
   "source": [
    "# # Save LR pickle file \n",
    "# lr_pickle_filename = \"lr_sentiment_analysis_model.pickle\"\n",
    "# lr_pickle_filepath = f\"{base_dir_path}/{lr_pickle_filename}\"\n",
    "# pickle.dump(lr_model, open(lr_pickle_filepath, 'wb'))"
   ]
  },
  {
   "cell_type": "code",
   "execution_count": null,
   "metadata": {
    "id": "Ti2Y6Yv_5oDU"
   },
   "outputs": [],
   "source": [
    "# Save LR pickle file \n",
    "lr_pickle_filename = \"lr_sentiment_analysis_model.pickle\"\n",
    "save_pickle_file(lr_model, lr_pickle_filename)"
   ]
  },
  {
   "cell_type": "markdown",
   "metadata": {
    "id": "29g4k252X8yL"
   },
   "source": [
    "## **Random Forest**"
   ]
  },
  {
   "cell_type": "code",
   "execution_count": null,
   "metadata": {
    "id": "RYhAk5uk47r4"
   },
   "outputs": [],
   "source": [
    "from sklearn.ensemble import RandomForestClassifier"
   ]
  },
  {
   "cell_type": "code",
   "execution_count": null,
   "metadata": {
    "colab": {
     "base_uri": "https://localhost:8080/"
    },
    "id": "KjXh7_7HX3pk",
    "outputId": "d34e62d1-e2f3-4450-f4f8-1a86cfb60ce9"
   },
   "outputs": [],
   "source": [
    "# Create the parameter grid based on the results of random search \n",
    "param_distributions = {\n",
    "    'max_depth': [40, 80],\n",
    "    'min_samples_split': [20, 40],\n",
    "    'n_estimators': [100, 200]\n",
    "}\n",
    "# Create a based model\n",
    "rf = RandomForestClassifier()\n",
    "# Instantiate the grid search model\n",
    "rf_random_search = RandomizedSearchCV(estimator = rf, param_distributions = param_distributions, cv = 3, n_jobs = -1,verbose = 1)\n",
    "\n",
    "# Fit the grid search to the data\n",
    "rf_random_search.fit(X_train, y_train)"
   ]
  },
  {
   "cell_type": "code",
   "execution_count": null,
   "metadata": {
    "colab": {
     "base_uri": "https://localhost:8080/"
    },
    "id": "8vmapieceZDZ",
    "outputId": "71e79ebf-c68f-472d-c9c9-2ca41a860f7f"
   },
   "outputs": [],
   "source": [
    "print('Best Score', rf_random_search.best_score_)\n",
    "print('Best Params ', rf_random_search.best_params_)"
   ]
  },
  {
   "cell_type": "code",
   "execution_count": null,
   "metadata": {
    "colab": {
     "base_uri": "https://localhost:8080/"
    },
    "id": "AmkDe9z2-mnT",
    "outputId": "b3b2558a-92f6-4f4b-a093-d28e98db39f9"
   },
   "outputs": [],
   "source": [
    "# train prediction\n",
    "rf_train_predictions = rf_random_search.predict(X_train)\n",
    "rf_train_metrics = generate_metrics_df(y_train, rf_train_predictions)"
   ]
  },
  {
   "cell_type": "code",
   "execution_count": null,
   "metadata": {
    "colab": {
     "base_uri": "https://localhost:8080/"
    },
    "id": "Y4FmyBaH-oEi",
    "outputId": "7d93a0ca-fc07-4dbb-b137-b32918a07b2e"
   },
   "outputs": [],
   "source": [
    "# test predict\n",
    "rf_predictions = rf_random_search.predict(X_test)\n",
    "# Generate matrics\n",
    "rf_metrics = generate_metrics_df(y_test, rf_predictions)"
   ]
  },
  {
   "cell_type": "code",
   "execution_count": null,
   "metadata": {
    "id": "MawybttveaSZ"
   },
   "outputs": [],
   "source": [
    "# rf = RandomForestClassifier(\n",
    "#   max_depth=80,\n",
    "#   n_estimators=200,\n",
    "#   min_samples_split=20,\n",
    "#   random_state=10\n",
    "# )\n",
    "# # fit\n",
    "# rf.fit(X_train, y_train)"
   ]
  },
  {
   "cell_type": "code",
   "execution_count": null,
   "metadata": {
    "id": "w2r1LaWHqqJL"
   },
   "outputs": [],
   "source": [
    "# Save RF pickle file \n",
    "rf_pickle_filename = \"rf_sentiment_analysis_model.pickle\"\n",
    "save_pickle_file(rf_random_search, rf_pickle_filename)"
   ]
  },
  {
   "cell_type": "code",
   "execution_count": null,
   "metadata": {
    "id": "PAlwLK3lAI2s"
   },
   "outputs": [],
   "source": []
  },
  {
   "cell_type": "markdown",
   "metadata": {
    "id": "bA9ZNz4vx_IB"
   },
   "source": [
    "## **XG Boost**"
   ]
  },
  {
   "cell_type": "code",
   "execution_count": null,
   "metadata": {
    "id": "IvHJD850yhPS"
   },
   "outputs": [],
   "source": [
    "import xgboost as xgb"
   ]
  },
  {
   "cell_type": "code",
   "execution_count": null,
   "metadata": {
    "colab": {
     "base_uri": "https://localhost:8080/"
    },
    "id": "O4mqdmzjyBwC",
    "outputId": "02e1c76a-ee04-4864-b434-9232b7fb906e"
   },
   "outputs": [],
   "source": [
    "# param_distributions = {\n",
    "#     'n_estimators': [200, 400],\n",
    "#     'max_depth': [80, 100],\n",
    "#     'learning_rate': [0.05, 0.2]\n",
    "# }\n",
    "param_distributions = {\n",
    "    'n_estimators': [100, 200],\n",
    "    'max_depth': [2, 5],\n",
    "    'learning_rate': [0.05, 0.2]\n",
    "}\n",
    "\n",
    "# Create a based model\n",
    "# xgboost_model = xgb.XGBClassifier(objective=\"binary:logistic\")\n",
    "xgboost_model = xgb.XGBClassifier()\n",
    "\n",
    "# Instantiate the random search model\n",
    "xgb_random_search = RandomizedSearchCV(estimator = xgboost_model, param_distributions = param_distributions, cv = 3, n_jobs = -1,verbose = 1)\n",
    "\n",
    "# Fit the random search to the data\n",
    "xgb_random_search.fit(X_train, y_train)"
   ]
  },
  {
   "cell_type": "code",
   "execution_count": null,
   "metadata": {
    "colab": {
     "base_uri": "https://localhost:8080/",
     "height": 184
    },
    "id": "EgHKRe5TzAP6",
    "outputId": "dbcb316f-969b-4b8a-a20b-83f2ff3f755c"
   },
   "outputs": [],
   "source": [
    "print('Best Score', random_search.best_score_)\n",
    "print('Best Params ', random_search.best_params_)"
   ]
  },
  {
   "cell_type": "code",
   "execution_count": null,
   "metadata": {
    "id": "S2nF3sr5zH95"
   },
   "outputs": [],
   "source": [
    "# rf = RandomForestClassifier(\n",
    "#   max_depth=80,\n",
    "#   n_estimators=200,\n",
    "#   min_samples_split=20,\n",
    "#   random_state=10\n",
    "# )\n",
    "# # fit\n",
    "# rf.fit(X_train, y_train)"
   ]
  },
  {
   "cell_type": "code",
   "execution_count": null,
   "metadata": {
    "id": "36OIHahlzDDB"
   },
   "outputs": [],
   "source": [
    "# train prediction\n",
    "xgb_train_predictions = xgb_random_search.predict(X_train)\n",
    "xgb_train_metrics = generate_metrics_df(y_train, xgb_train_predictions)"
   ]
  },
  {
   "cell_type": "code",
   "execution_count": null,
   "metadata": {
    "id": "_EFhMpwyzEiR"
   },
   "outputs": [],
   "source": [
    "# test predict\n",
    "xgb_test_predictions = xgb_random_search.predict(X_test)\n",
    "# Generate matrics\n",
    "xgb_test_metrics = generate_metrics_df(y_test, xgb_test_predictions)"
   ]
  },
  {
   "cell_type": "code",
   "execution_count": null,
   "metadata": {
    "id": "WLq2BtFO0XwP"
   },
   "outputs": [],
   "source": []
  },
  {
   "cell_type": "markdown",
   "metadata": {
    "id": "Wr1zszbw0ZAv"
   },
   "source": [
    "## **Select Best Model**"
   ]
  },
  {
   "cell_type": "code",
   "execution_count": null,
   "metadata": {
    "id": "m-YkdGGTHJDt"
   },
   "outputs": [],
   "source": [
    "sentiment_analysis_model = lr_model"
   ]
  },
  {
   "cell_type": "markdown",
   "metadata": {
    "id": "1woO9XMe6x4Y"
   },
   "source": [
    "## **Create Product Sentiment Score DF**\n",
    "\n",
    "- We will use this df to precalculate and save the sentiment score of each product.\n",
    "- Then, we will use this score for sorting in descending order to find the best product to recommend."
   ]
  },
  {
   "cell_type": "code",
   "execution_count": null,
   "metadata": {
    "colab": {
     "base_uri": "https://localhost:8080/"
    },
    "id": "kgU09Knm3lPa",
    "outputId": "3a563844-28b1-494e-f43d-7f022421719c"
   },
   "outputs": [],
   "source": [
    "# Create ratings dataframe from csv\n",
    "og_ratings_df = pd.read_csv(f\"{base_dir_path}/sample30.csv\")\n",
    "og_ratings_df.shape"
   ]
  },
  {
   "cell_type": "code",
   "execution_count": null,
   "metadata": {
    "colab": {
     "base_uri": "https://localhost:8080/",
     "height": 563
    },
    "id": "QFAWJAl4Ht7_",
    "outputId": "d68787c3-af90-4d81-cf99-649f57bf4073"
   },
   "outputs": [],
   "source": [
    "og_ratings_df.head(3)"
   ]
  },
  {
   "cell_type": "code",
   "execution_count": null,
   "metadata": {
    "colab": {
     "base_uri": "https://localhost:8080/"
    },
    "id": "YQdIxHGsD-d4",
    "outputId": "b02daee1-c2c7-4d40-eaed-bf4de4ac2050"
   },
   "outputs": [],
   "source": [
    "print(ratings_df.shape)\n",
    "print(ratings_df.columns)\n",
    "print('----')\n",
    "print(sentiment_df.shape)\n",
    "print(sentiment_df.columns)"
   ]
  },
  {
   "cell_type": "code",
   "execution_count": null,
   "metadata": {
    "colab": {
     "base_uri": "https://localhost:8080/",
     "height": 1000
    },
    "id": "LIYeZDmCD-5h",
    "outputId": "ebc19199-0ac0-4606-ca64-d5d927a390ff"
   },
   "outputs": [],
   "source": [
    "ratings_df['preprocessed_review'] = sentiment_df['preprocessed_review']\n",
    "ratings_df.head(3)"
   ]
  },
  {
   "cell_type": "code",
   "execution_count": null,
   "metadata": {
    "colab": {
     "base_uri": "https://localhost:8080/",
     "height": 300
    },
    "id": "LSKo9EsbD_Bo",
    "outputId": "913f4055-01ae-4546-e298-48177616d5a8"
   },
   "outputs": [],
   "source": [
    "product_sentiment_score_df = ratings_df[['name', 'preprocessed_review', 'reviews_text']]\n",
    "product_sentiment_score_df.head(3)"
   ]
  },
  {
   "cell_type": "code",
   "execution_count": null,
   "metadata": {
    "colab": {
     "base_uri": "https://localhost:8080/"
    },
    "id": "hrgliTqsFWMK",
    "outputId": "b2081b48-4a42-42b9-8ed5-89f2182e3ffb"
   },
   "outputs": [],
   "source": [
    "print(\"Vector Transforming\")\n",
    "tfidf_model = vectorizer.transform(product_sentiment_score_df['preprocessed_review'])\n",
    "tfidf_df = pd.DataFrame(tfidf_model.toarray(), columns = vectorizer.get_feature_names())\n",
    "\n",
    "cutoff = 0.42\n",
    "print(\"Making Prediction\")\n",
    "product_sentiment_score_df[\"pos_sentiment_prob\"] = sentiment_analysis_model.predict_proba(tfidf_df)[:, 1]\n",
    "product_sentiment_score_df[\"sentiment_pred\"] = product_sentiment_score_df['pos_sentiment_prob'].map(lambda x: 1 if x >= cutoff else 0)"
   ]
  },
  {
   "cell_type": "code",
   "execution_count": null,
   "metadata": {
    "colab": {
     "base_uri": "https://localhost:8080/"
    },
    "id": "DjuEzQAwFWTX",
    "outputId": "be1613c3-72af-4a71-c53d-4f38f5b3069b"
   },
   "outputs": [],
   "source": [
    "# product_sentiment_score_df.head()\n",
    "# product_sentiment_score_df.groupby('name')['sentiment_pred'].mean().sort_values(ascending=False).index.tolist()\n",
    "product_sentiment_score_df.groupby('name')['sentiment_pred'].mean().sort_values(ascending=False)"
   ]
  },
  {
   "cell_type": "code",
   "execution_count": null,
   "metadata": {
    "colab": {
     "base_uri": "https://localhost:8080/",
     "height": 677
    },
    "id": "viu9gix2KVW2",
    "outputId": "dbbe7033-263b-4745-8807-1aaf8421e39f"
   },
   "outputs": [],
   "source": [
    "prod_list = product_sentiment_score_df.groupby('name')['sentiment_pred'].mean().index.tolist()\n",
    "sent_score_list = product_sentiment_score_df.groupby('name')['sentiment_pred'].mean().values.tolist()\n",
    "prod_sent_score = pd.DataFrame(data = {\n",
    "    \"product\": prod_list,\n",
    "    \"sentiment_score\": sent_score_list\n",
    "})\n",
    "\n",
    "prod_sent_score.head(20)"
   ]
  },
  {
   "cell_type": "code",
   "execution_count": null,
   "metadata": {
    "colab": {
     "base_uri": "https://localhost:8080/",
     "height": 206
    },
    "id": "vhZWJRtOVlmp",
    "outputId": "3d9fe917-4143-4bc3-dcb4-74c84726aa46"
   },
   "outputs": [],
   "source": [
    "prod_sent_score[prod_sent_score['product'].isin(prod_list[:5])].sort_values(by=\"sentiment_score\", ascending=False)"
   ]
  },
  {
   "cell_type": "code",
   "execution_count": null,
   "metadata": {
    "id": "fZK6abkVVlXp"
   },
   "outputs": [],
   "source": [
    "prod_sent_score_filename = \"product_sentiment_score_df.pickle\"\n",
    "save_pickle_file(prod_sent_score, prod_sent_score_filename)"
   ]
  },
  {
   "cell_type": "code",
   "execution_count": null,
   "metadata": {
    "colab": {
     "base_uri": "https://localhost:8080/",
     "height": 206
    },
    "id": "5aG2HcK0VlPi",
    "outputId": "538a271c-ca7c-4c77-b8a2-e6d6cc9289b8"
   },
   "outputs": [],
   "source": [
    "top_products_df = prod_sent_score[prod_sent_score['product'].isin(prod_list[:5])].sort_values(by=\"sentiment_score\", ascending=False)\n",
    "top_products_df.head()"
   ]
  },
  {
   "cell_type": "code",
   "execution_count": null,
   "metadata": {
    "colab": {
     "base_uri": "https://localhost:8080/"
    },
    "id": "LG1QDh3GVlF3",
    "outputId": "404c2c0b-8095-456f-e64b-13b7063f3a5e"
   },
   "outputs": [],
   "source": [
    "top_products_df['product'].tolist()"
   ]
  },
  {
   "cell_type": "code",
   "execution_count": null,
   "metadata": {
    "id": "iyFNjsGzVk5p"
   },
   "outputs": [],
   "source": []
  },
  {
   "cell_type": "code",
   "execution_count": null,
   "metadata": {
    "id": "fzF5MzucVkkW"
   },
   "outputs": [],
   "source": []
  },
  {
   "cell_type": "code",
   "execution_count": null,
   "metadata": {
    "id": "OKZ_pspiLWK_"
   },
   "outputs": [],
   "source": [
    "prod_name = \"0.6 Cu. Ft. Letter A4 Size Waterproof 30 Min. Fire File Chest\"\n",
    "product_sentiment_score_df[product_sentiment_score_df['name'] == product_sentiment_score_df]"
   ]
  },
  {
   "cell_type": "code",
   "execution_count": null,
   "metadata": {
    "colab": {
     "base_uri": "https://localhost:8080/"
    },
    "id": "th29PwNtFWYW",
    "outputId": "3b3d6440-dcaf-4121-abf3-1222d43d2fbf"
   },
   "outputs": [],
   "source": [
    "product_sentiment_score_df.groupby('name')['sentiment_pred'].mean().sort_values(ascending=False).index.tolist()"
   ]
  },
  {
   "cell_type": "code",
   "execution_count": null,
   "metadata": {
    "id": "EYqjf2q8FWfa"
   },
   "outputs": [],
   "source": []
  },
  {
   "cell_type": "code",
   "execution_count": null,
   "metadata": {
    "id": "Z2VnhcHTFWk2"
   },
   "outputs": [],
   "source": []
  },
  {
   "cell_type": "code",
   "execution_count": null,
   "metadata": {
    "id": "wMADPSBHFWrk"
   },
   "outputs": [],
   "source": []
  },
  {
   "cell_type": "code",
   "execution_count": null,
   "metadata": {
    "id": "vg4SjAIyFW3t"
   },
   "outputs": [],
   "source": []
  },
  {
   "cell_type": "code",
   "execution_count": null,
   "metadata": {
    "id": "YhYd3ChAFW8y"
   },
   "outputs": [],
   "source": []
  },
  {
   "cell_type": "code",
   "execution_count": null,
   "metadata": {
    "id": "8iQGtDamFXE6"
   },
   "outputs": [],
   "source": []
  },
  {
   "cell_type": "markdown",
   "metadata": {
    "id": "n8va5fdx3lq-"
   },
   "source": [
    "## **Load & Test from Pickle File**"
   ]
  },
  {
   "cell_type": "code",
   "execution_count": null,
   "metadata": {
    "id": "toV2lKoH3lq-"
   },
   "outputs": [],
   "source": [
    "# load LR model and test\n",
    "loaded_lr_model = pickle.load(open(lr_pickle_filepath, 'rb'))"
   ]
  },
  {
   "cell_type": "code",
   "execution_count": null,
   "metadata": {
    "id": "PN14v4ix3lq-"
   },
   "outputs": [],
   "source": [
    "# load Vectorizer and test\n",
    "vectorizer_pickle = pickle.load(open(vectorizer_pickle_filepath, 'rb'))"
   ]
  },
  {
   "cell_type": "code",
   "execution_count": null,
   "metadata": {
    "id": "dPsq-B9V3lq_"
   },
   "outputs": [],
   "source": [
    "# tfidf_model = vectorizer.fit_transform(sentiment_df['preprocessed_review'])\n",
    "# tfidf_df = pd.DataFrame(tfidf_model.toarray(), columns = vectorizer.get_feature_names())\n",
    "# tfidf_df.head(5)"
   ]
  },
  {
   "cell_type": "code",
   "execution_count": null,
   "metadata": {
    "colab": {
     "base_uri": "https://localhost:8080/",
     "height": 293
    },
    "id": "_V4uQT6Q3lq_",
    "outputId": "425a4110-5bbe-4ffd-9786-6e9be5c537da"
   },
   "outputs": [],
   "source": [
    "product_name = 'Godzilla 3d Includes Digital Copy Ultraviolet 3d/2d Blu-Ray/dvd'\n",
    "product_reviews = ratings_df[ratings_df.name == product_name][['reviews_text']]\n",
    "product_reviews['preprocessed_review'] = product_reviews.reviews_text.apply(document_preprocess)\n",
    "product_reviews.head()"
   ]
  },
  {
   "cell_type": "code",
   "execution_count": null,
   "metadata": {
    "colab": {
     "base_uri": "https://localhost:8080/",
     "height": 256
    },
    "id": "tVoEvHV43lq_",
    "outputId": "036dd1e0-78ee-4fb6-e440-005bd21127ab"
   },
   "outputs": [],
   "source": [
    "tfidf_model = vectorizer_pickle.transform(product_reviews['preprocessed_review'])\n",
    "tfidf_df = pd.DataFrame(tfidf_model.toarray(), columns = vectorizer_pickle.get_feature_names())\n",
    "tfidf_df.head(5)"
   ]
  },
  {
   "cell_type": "code",
   "execution_count": null,
   "metadata": {
    "colab": {
     "base_uri": "https://localhost:8080/"
    },
    "id": "uHilEFGF3lq_",
    "outputId": "9f8941f1-562b-4565-bd1a-acb693ab3ec1"
   },
   "outputs": [],
   "source": [
    "tfidf_df.shape"
   ]
  },
  {
   "cell_type": "code",
   "execution_count": null,
   "metadata": {
    "id": "lCzPKRZP3lrA"
   },
   "outputs": [],
   "source": [
    "y_proba = loaded_lr_model.predict_proba(tfidf_df)[:, 1]\n",
    "y_proba_1 = loaded_lr_model.predict_proba(tfidf_df)"
   ]
  },
  {
   "cell_type": "code",
   "execution_count": null,
   "metadata": {
    "colab": {
     "base_uri": "https://localhost:8080/"
    },
    "id": "v4oIVDN33lrA",
    "outputId": "6071d59d-2181-4e90-d159-db41da83bbf9"
   },
   "outputs": [],
   "source": [
    "y_proba_1"
   ]
  },
  {
   "cell_type": "code",
   "execution_count": null,
   "metadata": {
    "colab": {
     "base_uri": "https://localhost:8080/"
    },
    "id": "fYvnKahI3lrA",
    "outputId": "64ab9135-f545-4a3f-ed68-a5a7218f6797"
   },
   "outputs": [],
   "source": [
    "y_proba"
   ]
  },
  {
   "cell_type": "code",
   "execution_count": null,
   "metadata": {
    "id": "8Jehtp9P3lrC"
   },
   "outputs": [],
   "source": [
    "product_reviews['sentiment_proba'] = y_proba"
   ]
  },
  {
   "cell_type": "code",
   "execution_count": null,
   "metadata": {
    "colab": {
     "base_uri": "https://localhost:8080/",
     "height": 954
    },
    "id": "XahCqmhp3lrD",
    "outputId": "3b5a293a-9010-4ab4-d9ae-131ac8f5dd87"
   },
   "outputs": [],
   "source": [
    "product_reviews.head(20)"
   ]
  },
  {
   "cell_type": "code",
   "execution_count": null,
   "metadata": {
    "colab": {
     "base_uri": "https://localhost:8080/",
     "height": 902
    },
    "id": "F0GMM5UK3lrE",
    "outputId": "e21ca14a-6889-47e9-bd21-2343e06b67cf"
   },
   "outputs": [],
   "source": [
    "product_reviews.sort_values(by='sentiment_proba', ascending=True).head(20)"
   ]
  },
  {
   "cell_type": "code",
   "execution_count": null,
   "metadata": {
    "colab": {
     "base_uri": "https://localhost:8080/"
    },
    "id": "LwKrm6Pa3lrF",
    "outputId": "1fe42ac0-da7b-4344-97ba-c9dae586b71e"
   },
   "outputs": [],
   "source": [
    "len(y_proba.tolist())"
   ]
  },
  {
   "cell_type": "code",
   "execution_count": null,
   "metadata": {
    "colab": {
     "base_uri": "https://localhost:8080/"
    },
    "id": "rRw6BnGw3lrF",
    "outputId": "57391d86-834a-4116-b27e-f19cd5984e05"
   },
   "outputs": [],
   "source": [
    "# y_pred = y_proba.tolist().apply(lambda x: 0 if x < 0.42 else 1)\n",
    "# y_pred\n",
    "y_pred = list(map(lambda x: 0 if x < 0.42 else 1, y_proba.tolist()))\n",
    "y_pred"
   ]
  },
  {
   "cell_type": "code",
   "execution_count": null,
   "metadata": {
    "colab": {
     "base_uri": "https://localhost:8080/"
    },
    "id": "DZ59BjqI3lrG",
    "outputId": "5f5fb3a3-58aa-4d1b-84fe-fb6f66889065"
   },
   "outputs": [],
   "source": [
    "np.array(list(y_pred)).sum()"
   ]
  },
  {
   "cell_type": "code",
   "execution_count": null,
   "metadata": {
    "colab": {
     "base_uri": "https://localhost:8080/"
    },
    "id": "w0ROs8V63lrG",
    "outputId": "1bc7be88-259e-4dac-c327-c2f19e9e2bd4"
   },
   "outputs": [],
   "source": [
    "print(y_proba)\n",
    "print(y_pred)\n",
    "print(y_pred.count(1))\n",
    "print(len(y_pred))\n",
    "print('% = ', y_pred.count(1)/len(y_pred))"
   ]
  },
  {
   "cell_type": "code",
   "execution_count": null,
   "metadata": {
    "id": "1TopINq63lrG"
   },
   "outputs": [],
   "source": []
  }
 ],
 "metadata": {
  "accelerator": "GPU",
  "colab": {
   "collapsed_sections": [
    "n8va5fdx3lq-"
   ],
   "name": "SBPRC_Sentiment_Classification.ipynb",
   "provenance": []
  },
  "kernelspec": {
   "display_name": "Python 3",
   "language": "python",
   "name": "python3"
  },
  "language_info": {
   "codemirror_mode": {
    "name": "ipython",
    "version": 3
   },
   "file_extension": ".py",
   "mimetype": "text/x-python",
   "name": "python",
   "nbconvert_exporter": "python",
   "pygments_lexer": "ipython3",
   "version": "3.7.4"
  }
 },
 "nbformat": 4,
 "nbformat_minor": 1
}
